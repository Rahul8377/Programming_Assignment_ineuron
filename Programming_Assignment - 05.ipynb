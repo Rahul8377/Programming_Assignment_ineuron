{
 "cells": [
  {
   "cell_type": "markdown",
   "id": "60815f58",
   "metadata": {},
   "source": [
    "# 1. Write a Python Program to Find LCM?"
   ]
  },
  {
   "cell_type": "code",
   "execution_count": 1,
   "id": "76f3aaf5",
   "metadata": {},
   "outputs": [
    {
     "name": "stdout",
     "output_type": "stream",
     "text": [
      "Enter the first number: 5\n",
      "Enter the second number: 6\n",
      "The LCM of 5 and 6 is 30.\n"
     ]
    }
   ],
   "source": [
    "def find_lcm(num1, num2):\n",
    "    # Find the greater number\n",
    "    if num1 > num2:\n",
    "        greater = num1\n",
    "    else:\n",
    "        greater = num2\n",
    "\n",
    "    while True:\n",
    "        if greater % num1 == 0 and greater % num2 == 0:\n",
    "            lcm = greater\n",
    "            break\n",
    "        greater += 1\n",
    "\n",
    "    return lcm\n",
    "\n",
    "\n",
    "# Test the function\n",
    "num1 = int(input(\"Enter the first number: \"))\n",
    "num2 = int(input(\"Enter the second number: \"))\n",
    "\n",
    "lcm = find_lcm(num1, num2)\n",
    "print(f\"The LCM of {num1} and {num2} is {lcm}.\")\n"
   ]
  },
  {
   "cell_type": "markdown",
   "id": "7bcad66d",
   "metadata": {},
   "source": [
    "# 2. Write a Python Program to Find HCF?"
   ]
  },
  {
   "cell_type": "code",
   "execution_count": 2,
   "id": "0e3e87c5",
   "metadata": {},
   "outputs": [
    {
     "name": "stdout",
     "output_type": "stream",
     "text": [
      "Enter the first number: 5\n",
      "Enter the second number: 6\n",
      "The HCF of 5 and 6 is 1.\n"
     ]
    }
   ],
   "source": [
    "def find_hcf(num1, num2):\n",
    "    while num2 != 0:\n",
    "        temp = num2\n",
    "        num2 = num1 % num2\n",
    "        num1 = temp\n",
    "\n",
    "    return num1\n",
    "\n",
    "\n",
    "# Test the function\n",
    "num1 = int(input(\"Enter the first number: \"))\n",
    "num2 = int(input(\"Enter the second number: \"))\n",
    "\n",
    "hcf = find_hcf(num1, num2)\n",
    "print(f\"The HCF of {num1} and {num2} is {hcf}.\")\n"
   ]
  },
  {
   "cell_type": "markdown",
   "id": "18d72aa3",
   "metadata": {},
   "source": [
    "# 3. Write a Python Program to Convert Decimal to Binary, Octal and Hexadecimal?"
   ]
  },
  {
   "cell_type": "code",
   "execution_count": 4,
   "id": "971c6891",
   "metadata": {},
   "outputs": [
    {
     "name": "stdout",
     "output_type": "stream",
     "text": [
      "Enter a decimal number: 10\n",
      "The binary representation of 10 is: 1010\n",
      "The octal representation of 10 is: 12\n",
      "The hexadecimal representation of 10 is: a\n"
     ]
    }
   ],
   "source": [
    "def decimal_to_binary(decimal):\n",
    "    return bin(decimal)[2:]  # Remove the '0b' prefix\n",
    "\n",
    "\n",
    "def decimal_to_octal(decimal):\n",
    "    return oct(decimal)[2:]  # Remove the '0o' prefix\n",
    "\n",
    "\n",
    "def decimal_to_hexadecimal(decimal):\n",
    "    return hex(decimal)[2:]  # Remove the '0x' prefix\n",
    "\n",
    "\n",
    "# Test the functions\n",
    "decimal = int(input(\"Enter a decimal number: \"))\n",
    "\n",
    "binary = decimal_to_binary(decimal)\n",
    "print(f\"The binary representation of {decimal} is: {binary}\")\n",
    "\n",
    "octal = decimal_to_octal(decimal)\n",
    "print(f\"The octal representation of {decimal} is: {octal}\")\n",
    "\n",
    "hexadecimal = decimal_to_hexadecimal(decimal)\n",
    "print(f\"The hexadecimal representation of {decimal} is: {hexadecimal}\")\n"
   ]
  },
  {
   "cell_type": "markdown",
   "id": "48bfb48b",
   "metadata": {},
   "source": [
    "# 4. Write a Python Program To Find ASCII value of a character?"
   ]
  },
  {
   "cell_type": "code",
   "execution_count": 6,
   "id": "964a2018",
   "metadata": {},
   "outputs": [
    {
     "name": "stdout",
     "output_type": "stream",
     "text": [
      "Enter a character: g\n",
      "The ASCII value of 'g' is: 103\n"
     ]
    }
   ],
   "source": [
    "character = input(\"Enter a character: \")\n",
    "\n",
    "ascii_value = ord(character)\n",
    "print(f\"The ASCII value of '{character}' is: {ascii_value}\")\n"
   ]
  },
  {
   "cell_type": "markdown",
   "id": "8d2589ab",
   "metadata": {},
   "source": [
    "# 5. Write a Python Program to Make a Simple Calculator with 4 basic mathematical operations?"
   ]
  },
  {
   "cell_type": "code",
   "execution_count": 7,
   "id": "8101c790",
   "metadata": {},
   "outputs": [
    {
     "name": "stdout",
     "output_type": "stream",
     "text": [
      "Simple Calculator\n",
      "Operations:\n",
      "1. Addition\n",
      "2. Subtraction\n",
      "3. Multiplication\n",
      "4. Division\n",
      "Enter the operation number (1-4): 3\n",
      "Enter the first number: 7.60\n",
      "Enter the second number: 9.5\n",
      "Result: 72.2\n"
     ]
    }
   ],
   "source": [
    "def add(x, y):\n",
    "    return x + y\n",
    "\n",
    "\n",
    "def subtract(x, y):\n",
    "    return x - y\n",
    "\n",
    "\n",
    "def multiply(x, y):\n",
    "    return x * y\n",
    "\n",
    "\n",
    "def divide(x, y):\n",
    "    return x / y\n",
    "\n",
    "\n",
    "print(\"Simple Calculator\")\n",
    "print(\"Operations:\")\n",
    "print(\"1. Addition\")\n",
    "print(\"2. Subtraction\")\n",
    "print(\"3. Multiplication\")\n",
    "print(\"4. Division\")\n",
    "\n",
    "choice = input(\"Enter the operation number (1-4): \")\n",
    "\n",
    "num1 = float(input(\"Enter the first number: \"))\n",
    "num2 = float(input(\"Enter the second number: \"))\n",
    "\n",
    "result = 0\n",
    "\n",
    "if choice == '1':\n",
    "    result = add(num1, num2)\n",
    "elif choice == '2':\n",
    "    result = subtract(num1, num2)\n",
    "elif choice == '3':\n",
    "    result = multiply(num1, num2)\n",
    "elif choice == '4':\n",
    "    result = divide(num1, num2)\n",
    "else:\n",
    "    print(\"Invalid choice!\")\n",
    "\n",
    "print(\"Result:\", result)\n"
   ]
  },
  {
   "cell_type": "code",
   "execution_count": null,
   "id": "00e33d3b",
   "metadata": {},
   "outputs": [],
   "source": []
  }
 ],
 "metadata": {
  "kernelspec": {
   "display_name": "Python 3 (ipykernel)",
   "language": "python",
   "name": "python3"
  },
  "language_info": {
   "codemirror_mode": {
    "name": "ipython",
    "version": 3
   },
   "file_extension": ".py",
   "mimetype": "text/x-python",
   "name": "python",
   "nbconvert_exporter": "python",
   "pygments_lexer": "ipython3",
   "version": "3.9.7"
  }
 },
 "nbformat": 4,
 "nbformat_minor": 5
}
