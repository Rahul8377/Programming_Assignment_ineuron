{
 "cells": [
  {
   "cell_type": "markdown",
   "id": "95d14291",
   "metadata": {},
   "source": [
    "# 1. Write a Python Program to Find the Factorial of a Number?"
   ]
  },
  {
   "cell_type": "code",
   "execution_count": 1,
   "id": "9eb8f687",
   "metadata": {},
   "outputs": [
    {
     "name": "stdout",
     "output_type": "stream",
     "text": [
      "Enter a number: 5\n",
      "The factorial of 5 is 120\n"
     ]
    }
   ],
   "source": [
    "def factorial(n):\n",
    "    if n == 0 or n == 1:\n",
    "        return 1\n",
    "    else:\n",
    "        return n * factorial(n - 1)\n",
    "\n",
    "# Take user input for the number\n",
    "num = int(input(\"Enter a number: \"))\n",
    "\n",
    "# Check if the number is negative\n",
    "if num < 0:\n",
    "    print(\"Factorial is not defined for negative numbers.\")\n",
    "else:\n",
    "    result = factorial(num)\n",
    "    print(\"The factorial of\", num, \"is\", result)\n"
   ]
  },
  {
   "cell_type": "markdown",
   "id": "0cdf1260",
   "metadata": {},
   "source": [
    "# 2. Write a Python Program to Display the multiplication Table?"
   ]
  },
  {
   "cell_type": "code",
   "execution_count": 2,
   "id": "74ad74fc",
   "metadata": {},
   "outputs": [
    {
     "name": "stdout",
     "output_type": "stream",
     "text": [
      "Enter a number: 6\n",
      "6 x 1 = 6\n",
      "6 x 2 = 12\n",
      "6 x 3 = 18\n",
      "6 x 4 = 24\n",
      "6 x 5 = 30\n",
      "6 x 6 = 36\n",
      "6 x 7 = 42\n",
      "6 x 8 = 48\n",
      "6 x 9 = 54\n",
      "6 x 10 = 60\n"
     ]
    }
   ],
   "source": [
    "def multiplication_table(num):\n",
    "    for i in range(1, 11):\n",
    "        print(num, \"x\", i, \"=\", num * i)\n",
    "\n",
    "# Take user input for the number\n",
    "num = int(input(\"Enter a number: \"))\n",
    "\n",
    "# Display the multiplication table\n",
    "multiplication_table(num)\n"
   ]
  },
  {
   "cell_type": "markdown",
   "id": "e5b87993",
   "metadata": {},
   "source": [
    "# 3. Write a Python Program to Print the Fibonacci sequence?"
   ]
  },
  {
   "cell_type": "code",
   "execution_count": 3,
   "id": "bcd28d77",
   "metadata": {},
   "outputs": [
    {
     "name": "stdout",
     "output_type": "stream",
     "text": [
      "Enter the number of terms in the Fibonacci sequence: 10\n",
      "The Fibonacci sequence:\n",
      "0 1 1 2 3 5 8 13 21 34 "
     ]
    }
   ],
   "source": [
    "def fibonacci_sequence(n):\n",
    "    fib_sequence = []\n",
    "    \n",
    "    # Check if the input is valid\n",
    "    if n <= 0:\n",
    "        print(\"Invalid input. Please enter a positive integer.\")\n",
    "    elif n == 1:\n",
    "        fib_sequence = [0]\n",
    "    elif n == 2:\n",
    "        fib_sequence = [0, 1]\n",
    "    else:\n",
    "        fib_sequence = [0, 1]\n",
    "        for i in range(2, n):\n",
    "            fib_sequence.append(fib_sequence[i-1] + fib_sequence[i-2])\n",
    "    \n",
    "    return fib_sequence\n",
    "\n",
    "# Take user input for the number of terms\n",
    "num_terms = int(input(\"Enter the number of terms in the Fibonacci sequence: \"))\n",
    "\n",
    "# Print the Fibonacci sequence\n",
    "fib_sequence = fibonacci_sequence(num_terms)\n",
    "print(\"The Fibonacci sequence:\")\n",
    "for num in fib_sequence:\n",
    "    print(num, end=\" \")\n"
   ]
  },
  {
   "cell_type": "markdown",
   "id": "7ebc0740",
   "metadata": {},
   "source": [
    "# 4. Write a Python Program to Check Armstrong Number?"
   ]
  },
  {
   "cell_type": "code",
   "execution_count": 4,
   "id": "bd121ec3",
   "metadata": {},
   "outputs": [
    {
     "name": "stdout",
     "output_type": "stream",
     "text": [
      "Enter a number: 10\n",
      "10 is not an Armstrong number.\n"
     ]
    }
   ],
   "source": [
    "def is_armstrong_number(num):\n",
    "    # Convert the number to a string to iterate over its digits\n",
    "    num_str = str(num)\n",
    "    num_digits = len(num_str)\n",
    "    \n",
    "    # Calculate the sum of the cubes of the digits\n",
    "    armstrong_sum = sum(int(digit) ** num_digits for digit in num_str)\n",
    "    \n",
    "    # Check if the sum is equal to the original number\n",
    "    if armstrong_sum == num:\n",
    "        return True\n",
    "    else:\n",
    "        return False\n",
    "\n",
    "# Take user input for the number\n",
    "num = int(input(\"Enter a number: \"))\n",
    "\n",
    "# Check if the number is an Armstrong number\n",
    "if is_armstrong_number(num):\n",
    "    print(num, \"is an Armstrong number.\")\n",
    "else:\n",
    "    print(num, \"is not an Armstrong number.\")\n"
   ]
  },
  {
   "cell_type": "markdown",
   "id": "67191175",
   "metadata": {},
   "source": [
    "# 5. Write a Python Program to Find Armstrong Number in an Interval?"
   ]
  },
  {
   "cell_type": "code",
   "execution_count": 5,
   "id": "47387f41",
   "metadata": {},
   "outputs": [
    {
     "name": "stdout",
     "output_type": "stream",
     "text": [
      "Enter the starting number of the interval: 100\n",
      "Enter the ending number of the interval: 450\n",
      "Armstrong numbers in the interval: [153, 370, 371, 407]\n"
     ]
    }
   ],
   "source": [
    "def is_armstrong_number(num):\n",
    "    # Convert the number to a string to iterate over its digits\n",
    "    num_str = str(num)\n",
    "    num_digits = len(num_str)\n",
    "    \n",
    "    # Calculate the sum of the cubes of the digits\n",
    "    armstrong_sum = sum(int(digit) ** num_digits for digit in num_str)\n",
    "    \n",
    "    # Check if the sum is equal to the original number\n",
    "    if armstrong_sum == num:\n",
    "        return True\n",
    "    else:\n",
    "        return False\n",
    "\n",
    "# Take user input for the interval\n",
    "start = int(input(\"Enter the starting number of the interval: \"))\n",
    "end = int(input(\"Enter the ending number of the interval: \"))\n",
    "\n",
    "# Find Armstrong numbers in the interval\n",
    "armstrong_numbers = []\n",
    "for num in range(start, end + 1):\n",
    "    if is_armstrong_number(num):\n",
    "        armstrong_numbers.append(num)\n",
    "\n",
    "# Display the Armstrong numbers\n",
    "print(\"Armstrong numbers in the interval:\", armstrong_numbers)\n"
   ]
  },
  {
   "cell_type": "markdown",
   "id": "5a23c5e3",
   "metadata": {},
   "source": [
    "# 6. Write a Python Program to Find the Sum of Natural Numbers?"
   ]
  },
  {
   "cell_type": "code",
   "execution_count": 6,
   "id": "6e3e41ba",
   "metadata": {},
   "outputs": [
    {
     "name": "stdout",
     "output_type": "stream",
     "text": [
      "Enter the limit: 100\n",
      "The sum of natural numbers up to 100 is 5050\n"
     ]
    }
   ],
   "source": [
    "def sum_of_natural_numbers(limit):\n",
    "    if limit < 1:\n",
    "        print(\"Invalid limit. Please enter a positive integer.\")\n",
    "        return\n",
    "    \n",
    "    sum = 0\n",
    "    for i in range(1, limit + 1):\n",
    "        sum += i\n",
    "    \n",
    "    return sum\n",
    "\n",
    "# Take user input for the limit\n",
    "limit = int(input(\"Enter the limit: \"))\n",
    "\n",
    "# Calculate the sum of natural numbers\n",
    "result = sum_of_natural_numbers(limit)\n",
    "print(\"The sum of natural numbers up to\", limit, \"is\", result)\n"
   ]
  },
  {
   "cell_type": "code",
   "execution_count": null,
   "id": "ce4df69e",
   "metadata": {},
   "outputs": [],
   "source": []
  }
 ],
 "metadata": {
  "kernelspec": {
   "display_name": "Python 3 (ipykernel)",
   "language": "python",
   "name": "python3"
  },
  "language_info": {
   "codemirror_mode": {
    "name": "ipython",
    "version": 3
   },
   "file_extension": ".py",
   "mimetype": "text/x-python",
   "name": "python",
   "nbconvert_exporter": "python",
   "pygments_lexer": "ipython3",
   "version": "3.9.7"
  }
 },
 "nbformat": 4,
 "nbformat_minor": 5
}
