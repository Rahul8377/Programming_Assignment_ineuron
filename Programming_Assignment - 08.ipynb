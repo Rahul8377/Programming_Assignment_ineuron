{
 "cells": [
  {
   "cell_type": "markdown",
   "id": "1bf3800f",
   "metadata": {},
   "source": [
    "# 1. Write a Python Program to Add Two Matrices?"
   ]
  },
  {
   "cell_type": "code",
   "execution_count": 1,
   "id": "fd9b87ef",
   "metadata": {},
   "outputs": [
    {
     "name": "stdout",
     "output_type": "stream",
     "text": [
      "Matrix 1:\n",
      "[1, 2, 3]\n",
      "[4, 5, 6]\n",
      "[7, 8, 9]\n",
      "Matrix 2:\n",
      "[9, 8, 7]\n",
      "[6, 5, 4]\n",
      "[3, 2, 1]\n",
      "Sum of matrices:\n",
      "[10, 10, 10]\n",
      "[10, 10, 10]\n",
      "[10, 10, 10]\n"
     ]
    }
   ],
   "source": [
    "def add_matrices(matrix1, matrix2):\n",
    "    if len(matrix1) != len(matrix2) or len(matrix1[0]) != len(matrix2[0]):\n",
    "        return None\n",
    "\n",
    "    result = []\n",
    "    for i in range(len(matrix1)):\n",
    "        row = []\n",
    "        for j in range(len(matrix1[0])):\n",
    "            row.append(matrix1[i][j] + matrix2[i][j])\n",
    "        result.append(row)\n",
    "\n",
    "    return result\n",
    "\n",
    "# Test the program\n",
    "matrix1 = [[1, 2, 3], [4, 5, 6], [7, 8, 9]]\n",
    "matrix2 = [[9, 8, 7], [6, 5, 4], [3, 2, 1]]\n",
    "\n",
    "addition_result = add_matrices(matrix1, matrix2)\n",
    "\n",
    "if addition_result is None:\n",
    "    print(\"Matrices cannot be added. Make sure they have the same dimensions.\")\n",
    "else:\n",
    "    print(\"Matrix 1:\")\n",
    "    for row in matrix1:\n",
    "        print(row)\n",
    "\n",
    "    print(\"Matrix 2:\")\n",
    "    for row in matrix2:\n",
    "        print(row)\n",
    "\n",
    "    print(\"Sum of matrices:\")\n",
    "    for row in addition_result:\n",
    "        print(row)\n"
   ]
  },
  {
   "cell_type": "markdown",
   "id": "dee03558",
   "metadata": {},
   "source": [
    "# 2. Write a Python Program to Multiply Two Matrices?"
   ]
  },
  {
   "cell_type": "code",
   "execution_count": 2,
   "id": "7481624c",
   "metadata": {},
   "outputs": [
    {
     "name": "stdout",
     "output_type": "stream",
     "text": [
      "Matrix 1:\n",
      "[1, 2, 3]\n",
      "[4, 5, 6]\n",
      "Matrix 2:\n",
      "[7, 8]\n",
      "[9, 10]\n",
      "[11, 12]\n",
      "Product of matrices:\n",
      "[58, 64]\n",
      "[139, 154]\n"
     ]
    }
   ],
   "source": [
    "def multiply_matrices(matrix1, matrix2):\n",
    "    if len(matrix1[0]) != len(matrix2):\n",
    "        return None\n",
    "\n",
    "    result = []\n",
    "    for i in range(len(matrix1)):\n",
    "        row = []\n",
    "        for j in range(len(matrix2[0])):\n",
    "            element = 0\n",
    "            for k in range(len(matrix2)):\n",
    "                element += matrix1[i][k] * matrix2[k][j]\n",
    "            row.append(element)\n",
    "        result.append(row)\n",
    "\n",
    "    return result\n",
    "\n",
    "# Test the program\n",
    "matrix1 = [[1, 2, 3], [4, 5, 6]]\n",
    "matrix2 = [[7, 8], [9, 10], [11, 12]]\n",
    "\n",
    "multiplication_result = multiply_matrices(matrix1, matrix2)\n",
    "\n",
    "if multiplication_result is None:\n",
    "    print(\"Matrices cannot be multiplied. Make sure the number of columns in matrix 1 matches the number of rows in matrix 2.\")\n",
    "else:\n",
    "    print(\"Matrix 1:\")\n",
    "    for row in matrix1:\n",
    "        print(row)\n",
    "\n",
    "    print(\"Matrix 2:\")\n",
    "    for row in matrix2:\n",
    "        print(row)\n",
    "\n",
    "    print(\"Product of matrices:\")\n",
    "    for row in multiplication_result:\n",
    "        print(row)\n"
   ]
  },
  {
   "cell_type": "markdown",
   "id": "e4f080d5",
   "metadata": {},
   "source": [
    "# 3. Write a Python Program to Transpose a Matrix?"
   ]
  },
  {
   "cell_type": "code",
   "execution_count": 3,
   "id": "d49fc6d6",
   "metadata": {},
   "outputs": [
    {
     "name": "stdout",
     "output_type": "stream",
     "text": [
      "Original Matrix:\n",
      "[1, 2, 3]\n",
      "[4, 5, 6]\n",
      "[7, 8, 9]\n",
      "Transposed Matrix:\n",
      "[1, 4, 7]\n",
      "[2, 5, 8]\n",
      "[3, 6, 9]\n"
     ]
    }
   ],
   "source": [
    "def transpose_matrix(matrix):\n",
    "    rows = len(matrix)\n",
    "    cols = len(matrix[0])\n",
    "\n",
    "    transposed_matrix = []\n",
    "    for j in range(cols):\n",
    "        row = []\n",
    "        for i in range(rows):\n",
    "            row.append(matrix[i][j])\n",
    "        transposed_matrix.append(row)\n",
    "\n",
    "    return transposed_matrix\n",
    "\n",
    "# Test the program\n",
    "matrix = [[1, 2, 3], [4, 5, 6], [7, 8, 9]]\n",
    "\n",
    "transposed = transpose_matrix(matrix)\n",
    "\n",
    "print(\"Original Matrix:\")\n",
    "for row in matrix:\n",
    "    print(row)\n",
    "\n",
    "print(\"Transposed Matrix:\")\n",
    "for row in transposed:\n",
    "    print(row)\n"
   ]
  },
  {
   "cell_type": "markdown",
   "id": "c80387df",
   "metadata": {},
   "source": [
    "# 4. Write a Python Program to Sort Words in Alphabetic Order?"
   ]
  },
  {
   "cell_type": "code",
   "execution_count": 6,
   "id": "8ebd66fb",
   "metadata": {},
   "outputs": [
    {
     "name": "stdout",
     "output_type": "stream",
     "text": [
      "Enter words separated by spaces: Rahul Amberia\n",
      "Original words: ['Rahul', 'Amberia']\n",
      "Words sorted in alphabetical order: ['Amberia', 'Rahul']\n"
     ]
    }
   ],
   "source": [
    "def sort_words(words):\n",
    "    sorted_words = sorted(words)\n",
    "    return sorted_words\n",
    "\n",
    "# Test the program\n",
    "words = input(\"Enter words separated by spaces: \").split()\n",
    "\n",
    "sorted_words = sort_words(words)\n",
    "\n",
    "print(\"Original words:\", words)\n",
    "print(\"Words sorted in alphabetical order:\", sorted_words)\n",
    "\n"
   ]
  },
  {
   "cell_type": "markdown",
   "id": "53a7b9c6",
   "metadata": {},
   "source": [
    "# 5. Write a Python Program to Remove Punctuation From a String?"
   ]
  },
  {
   "cell_type": "code",
   "execution_count": 7,
   "id": "72fc5fde",
   "metadata": {},
   "outputs": [
    {
     "name": "stdout",
     "output_type": "stream",
     "text": [
      "Original string: Hello, world! How are you?\n",
      "String without punctuation: Hello world How are you\n"
     ]
    }
   ],
   "source": [
    "import string\n",
    "\n",
    "def remove_punctuation(input_string):\n",
    "    # Create a translation table with punctuation characters mapped to None\n",
    "    translator = str.maketrans(\"\", \"\", string.punctuation)\n",
    "    \n",
    "    # Remove punctuation using the translation table\n",
    "    no_punct = input_string.translate(translator)\n",
    "    \n",
    "    return no_punct\n",
    "\n",
    "# Test the program\n",
    "input_string = \"Hello, world! How are you?\"\n",
    "\n",
    "no_punct_string = remove_punctuation(input_string)\n",
    "\n",
    "print(\"Original string:\", input_string)\n",
    "print(\"String without punctuation:\", no_punct_string)\n"
   ]
  },
  {
   "cell_type": "code",
   "execution_count": null,
   "id": "f9af27d1",
   "metadata": {},
   "outputs": [],
   "source": []
  }
 ],
 "metadata": {
  "kernelspec": {
   "display_name": "Python 3 (ipykernel)",
   "language": "python",
   "name": "python3"
  },
  "language_info": {
   "codemirror_mode": {
    "name": "ipython",
    "version": 3
   },
   "file_extension": ".py",
   "mimetype": "text/x-python",
   "name": "python",
   "nbconvert_exporter": "python",
   "pygments_lexer": "ipython3",
   "version": "3.9.7"
  }
 },
 "nbformat": 4,
 "nbformat_minor": 5
}
