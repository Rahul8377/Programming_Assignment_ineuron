{
 "cells": [
  {
   "cell_type": "markdown",
   "id": "4bf44f3f",
   "metadata": {},
   "source": [
    "# 1. Write a Python program to find words which are greater than given length k?"
   ]
  },
  {
   "cell_type": "code",
   "execution_count": 1,
   "id": "444decc9",
   "metadata": {},
   "outputs": [
    {
     "name": "stdout",
     "output_type": "stream",
     "text": [
      "Words greater than length 4 are: ['sample', 'sentence', 'program.']\n"
     ]
    }
   ],
   "source": [
    "def find_words_greater_than_length(text, k):\n",
    "    words = text.split()  # Split the text into individual words\n",
    "    result = []\n",
    "    \n",
    "    for word in words:\n",
    "        if len(word) > k:\n",
    "            result.append(word)\n",
    "    \n",
    "    return result\n",
    "\n",
    "# Example usage\n",
    "text = \"This is a sample sentence to test the program.\"\n",
    "k = 4\n",
    "result = find_words_greater_than_length(text, k)\n",
    "print(\"Words greater than length\", k, \"are:\", result)\n"
   ]
  },
  {
   "cell_type": "markdown",
   "id": "ad84d978",
   "metadata": {},
   "source": [
    "# 2. Write a Python program for removing i-th character from a string?"
   ]
  },
  {
   "cell_type": "code",
   "execution_count": 3,
   "id": "d333bd09",
   "metadata": {},
   "outputs": [
    {
     "name": "stdout",
     "output_type": "stream",
     "text": [
      "Original string: Hello, World!\n",
      "String after removing i-th character: Hello, orld!\n"
     ]
    }
   ],
   "source": [
    "def remove_ith_character(string, i):\n",
    "    if i < 0 or i >= len(string):\n",
    "        return string\n",
    "    \n",
    "    return string[:i] + string[i+1:]\n",
    "\n",
    "# Example usage\n",
    "string = \"Hello, World!\"\n",
    "i = 7\n",
    "new_string = remove_ith_character(string, i)\n",
    "print(\"Original string:\", string)\n",
    "print(\"String after removing i-th character:\", new_string)\n"
   ]
  },
  {
   "cell_type": "markdown",
   "id": "365e465f",
   "metadata": {},
   "source": [
    "# 3. Write a Python program to split and join a string?"
   ]
  },
  {
   "cell_type": "code",
   "execution_count": 5,
   "id": "96812622",
   "metadata": {},
   "outputs": [
    {
     "name": "stdout",
     "output_type": "stream",
     "text": [
      "Original string: Hello, World!\n",
      "String after splitting and joining: Hello, World!\n"
     ]
    }
   ],
   "source": [
    "def split_and_join_string(string, delimiter):\n",
    "    # Split the string into a list of substrings based on the delimiter\n",
    "    substrings = string.split(delimiter)\n",
    "    \n",
    "    # Join the substrings using the delimiter to form a new string\n",
    "    new_string = delimiter.join(substrings)\n",
    "    \n",
    "    return new_string\n",
    "\n",
    "# Example usage\n",
    "string = \"Hello, World!\"\n",
    "delimiter = \", \"\n",
    "new_string = split_and_join_string(string, delimiter)\n",
    "print(\"Original string:\", string)\n",
    "print(\"String after splitting and joining:\", new_string)\n"
   ]
  },
  {
   "cell_type": "markdown",
   "id": "acc36026",
   "metadata": {},
   "source": [
    "# 4. Write a Python to check if a given string is binary string or not?"
   ]
  },
  {
   "cell_type": "code",
   "execution_count": 6,
   "id": "7e8a5e5d",
   "metadata": {},
   "outputs": [
    {
     "name": "stdout",
     "output_type": "stream",
     "text": [
      "The string is a binary string.\n"
     ]
    }
   ],
   "source": [
    "def is_binary_string(string):\n",
    "    # Set of valid binary digits\n",
    "    binary_digits = {'0', '1'}\n",
    "    \n",
    "    # Check if every character in the string is a binary digit\n",
    "    for char in string:\n",
    "        if char not in binary_digits:\n",
    "            return False\n",
    "    \n",
    "    return True\n",
    "\n",
    "# Example usage\n",
    "string = \"101010\"\n",
    "is_binary = is_binary_string(string)\n",
    "if is_binary:\n",
    "    print(\"The string is a binary string.\")\n",
    "else:\n",
    "    print(\"The string is not a binary string.\")\n"
   ]
  },
  {
   "cell_type": "markdown",
   "id": "2038c64a",
   "metadata": {},
   "source": [
    "# 5. Write a Python program to find uncommon words from two Strings?"
   ]
  },
  {
   "cell_type": "code",
   "execution_count": 7,
   "id": "4a1d5a34",
   "metadata": {},
   "outputs": [
    {
     "name": "stdout",
     "output_type": "stream",
     "text": [
      "Uncommon words: {'python', 'what', 'how', 'doing', 'world'}\n"
     ]
    }
   ],
   "source": [
    "def find_uncommon_words(string1, string2):\n",
    "    # Split the strings into individual words\n",
    "    words1 = string1.split()\n",
    "    words2 = string2.split()\n",
    "    \n",
    "    # Create sets of unique words from each string\n",
    "    unique_words1 = set(words1)\n",
    "    unique_words2 = set(words2)\n",
    "    \n",
    "    # Find uncommon words by taking the symmetric difference of the sets\n",
    "    uncommon_words = unique_words1.symmetric_difference(unique_words2)\n",
    "    \n",
    "    return uncommon_words\n",
    "\n",
    "# Example usage\n",
    "string1 = \"Hello world how are you\"\n",
    "string2 = \"Hello python what are you doing\"\n",
    "uncommon = find_uncommon_words(string1, string2)\n",
    "print(\"Uncommon words:\", uncommon)\n"
   ]
  },
  {
   "cell_type": "markdown",
   "id": "a18cd10d",
   "metadata": {},
   "source": [
    "# 6. Write a Python to find all duplicate characters in string?"
   ]
  },
  {
   "cell_type": "code",
   "execution_count": 8,
   "id": "9a65e667",
   "metadata": {},
   "outputs": [
    {
     "name": "stdout",
     "output_type": "stream",
     "text": [
      "Duplicate characters: {'o', 'l'}\n"
     ]
    }
   ],
   "source": [
    "def find_duplicate_characters(string):\n",
    "    # Create an empty set to store duplicate characters\n",
    "    duplicates = set()\n",
    "    \n",
    "    # Create an empty set to store seen characters\n",
    "    seen = set()\n",
    "    \n",
    "    # Iterate over each character in the string\n",
    "    for char in string:\n",
    "        # Check if the character is already in the seen set\n",
    "        # If yes, it is a duplicate and add it to the duplicates set\n",
    "        if char in seen:\n",
    "            duplicates.add(char)\n",
    "        else:\n",
    "            seen.add(char)\n",
    "    \n",
    "    return duplicates\n",
    "\n",
    "# Example usage\n",
    "string = \"Hello, World!\"\n",
    "duplicate_chars = find_duplicate_characters(string)\n",
    "print(\"Duplicate characters:\", duplicate_chars)\n"
   ]
  },
  {
   "cell_type": "markdown",
   "id": "b1add15b",
   "metadata": {},
   "source": [
    "# 7. Write a Python Program to check if a string contains any special character?"
   ]
  },
  {
   "cell_type": "code",
   "execution_count": 9,
   "id": "6650a031",
   "metadata": {},
   "outputs": [
    {
     "name": "stdout",
     "output_type": "stream",
     "text": [
      "The string contains special characters.\n"
     ]
    }
   ],
   "source": [
    "import re\n",
    "\n",
    "def contains_special_characters(string):\n",
    "    # Regular expression pattern to match special characters\n",
    "    pattern = r'[!@#$%^&*(),.?\":{}|<>]'\n",
    "    \n",
    "    # Check if the string contains any special characters\n",
    "    if re.search(pattern, string):\n",
    "        return True\n",
    "    else:\n",
    "        return False\n",
    "\n",
    "# Example usage\n",
    "string = \"Hello, World!\"\n",
    "has_special_chars = contains_special_characters(string)\n",
    "if has_special_chars:\n",
    "    print(\"The string contains special characters.\")\n",
    "else:\n",
    "    print(\"The string does not contain special characters.\")\n"
   ]
  },
  {
   "cell_type": "code",
   "execution_count": null,
   "id": "75615fee",
   "metadata": {},
   "outputs": [],
   "source": []
  }
 ],
 "metadata": {
  "kernelspec": {
   "display_name": "Python 3 (ipykernel)",
   "language": "python",
   "name": "python3"
  },
  "language_info": {
   "codemirror_mode": {
    "name": "ipython",
    "version": 3
   },
   "file_extension": ".py",
   "mimetype": "text/x-python",
   "name": "python",
   "nbconvert_exporter": "python",
   "pygments_lexer": "ipython3",
   "version": "3.9.7"
  }
 },
 "nbformat": 4,
 "nbformat_minor": 5
}
