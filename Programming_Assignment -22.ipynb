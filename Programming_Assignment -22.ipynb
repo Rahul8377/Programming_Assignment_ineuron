{
 "cells": [
  {
   "cell_type": "markdown",
   "id": "00ed31e2",
   "metadata": {},
   "source": [
    "# Question1\n",
    "Create a function that takes three parameters where:\n",
    " x is the start of the range (inclusive).\n",
    " y is the end of the range (inclusive).\n",
    " n is the divisor to be checked against.\n",
    "Return an ordered list with numbers in the range that are divisible by the third parameter n.\n",
    "Return an empty list if there are no numbers that are divisible by n.\n",
    "Examples\n",
    "list_operation(1, 10, 3) ➞ [3, 6, 9]\n",
    "list_operation(7, 9, 2) ➞ [8]\n",
    "list_operation(15, 20, 7) ➞ []"
   ]
  },
  {
   "cell_type": "code",
   "execution_count": 1,
   "id": "4a6d615d",
   "metadata": {},
   "outputs": [],
   "source": [
    "def list_operation(x, y, n):\n",
    "    result = []\n",
    "    for num in range(x, y + 1):\n",
    "        if num % n == 0:\n",
    "            result.append(num)\n",
    "    return result\n"
   ]
  },
  {
   "cell_type": "code",
   "execution_count": 2,
   "id": "518c61a7",
   "metadata": {},
   "outputs": [
    {
     "name": "stdout",
     "output_type": "stream",
     "text": [
      "[3, 6, 9]\n",
      "[8]\n",
      "[]\n"
     ]
    }
   ],
   "source": [
    "print(list_operation(1, 10, 3))  # Output: [3, 6, 9]\n",
    "print(list_operation(7, 9, 2))   # Output: [8]\n",
    "print(list_operation(15, 20, 7)) # Output: []\n"
   ]
  },
  {
   "cell_type": "markdown",
   "id": "b819082d",
   "metadata": {},
   "source": [
    "# Question2\n",
    "Create a function that takes in two lists and returns True if the second list follows the first list\n",
    "by one element, and False otherwise. In other words, determine if the second list is the first\n",
    "list shifted to the right by 1.\n",
    "Examples\n",
    "simon_says([1, 2], [5, 1]) ➞ True\n",
    "simon_says([1, 2], [5, 5]) ➞ False\n",
    "simon_says([1, 2, 3, 4, 5], [0, 1, 2, 3, 4]) ➞ True\n",
    "simon_says([1, 2, 3, 4, 5], [5, 5, 1, 2, 3]) ➞ False\n",
    "Notes\n",
    " Both input lists will be of the same length, and will have a minimum length of 2.\n",
    " The values of the 0-indexed element in the second list and the n-1th indexed element\n",
    "in the first list do not matter."
   ]
  },
  {
   "cell_type": "code",
   "execution_count": 3,
   "id": "8f6cf7a6",
   "metadata": {},
   "outputs": [],
   "source": [
    "def simon_says(list1, list2):\n",
    "    n = len(list1)\n",
    "    return list1[:n-1] == list2[1:]\n"
   ]
  },
  {
   "cell_type": "code",
   "execution_count": 4,
   "id": "2ceb2f1d",
   "metadata": {},
   "outputs": [
    {
     "name": "stdout",
     "output_type": "stream",
     "text": [
      "True\n",
      "False\n",
      "True\n",
      "False\n"
     ]
    }
   ],
   "source": [
    "print(simon_says([1, 2], [5, 1]))                # Output: True\n",
    "print(simon_says([1, 2], [5, 5]))                # Output: False\n",
    "print(simon_says([1, 2, 3, 4, 5], [0, 1, 2, 3, 4]))    # Output: True\n",
    "print(simon_says([1, 2, 3, 4, 5], [5, 5, 1, 2, 3]))    # Output: False\n"
   ]
  },
  {
   "cell_type": "markdown",
   "id": "4774764f",
   "metadata": {},
   "source": [
    "# Question3\n",
    "A group of friends have decided to start a secret society. The name will be the first letter of\n",
    "each of their names, sorted in alphabetical order.\n",
    "Create a function that takes in a list of names and returns the name of the secret society.\n",
    "\n",
    "Examples\n",
    "society_name([&quot;Adam&quot;, &quot;Sarah&quot;, &quot;Malcolm&quot;]) ➞ &quot;AMS&quot;\n",
    "society_name([&quot;Harry&quot;, &quot;Newt&quot;, &quot;Luna&quot;, &quot;Cho&quot;]) ➞ &quot;CHLN&quot;\n",
    "society_name([&quot;Phoebe&quot;, &quot;Chandler&quot;, &quot;Rachel&quot;, &quot;Ross&quot;, &quot;Monica&quot;, &quot;Joey&quot;])"
   ]
  },
  {
   "cell_type": "code",
   "execution_count": 5,
   "id": "c08ca48f",
   "metadata": {},
   "outputs": [],
   "source": [
    "def society_name(names):\n",
    "    society = ''.join(sorted(name[0] for name in names))\n",
    "    return society\n"
   ]
  },
  {
   "cell_type": "code",
   "execution_count": 6,
   "id": "44988b9f",
   "metadata": {},
   "outputs": [
    {
     "name": "stdout",
     "output_type": "stream",
     "text": [
      "AMS\n",
      "CHLN\n",
      "CJMPRR\n"
     ]
    }
   ],
   "source": [
    "print(society_name([\"Adam\", \"Sarah\", \"Malcolm\"]))  # Output: \"AMS\"\n",
    "print(society_name([\"Harry\", \"Newt\", \"Luna\", \"Cho\"]))  # Output: \"CHLN\"\n",
    "print(society_name([\"Phoebe\", \"Chandler\", \"Rachel\", \"Ross\", \"Monica\", \"Joey\"]))  # Output: \"CJMPRR\"\n"
   ]
  },
  {
   "cell_type": "markdown",
   "id": "4ffdca96",
   "metadata": {},
   "source": [
    "# Question4\n",
    "An isogram is a word that has no duplicate letters. Create a function that takes a string and\n",
    "returns either True or False depending on whether or not it&#39;s an &quot;isogram&quot;.\n",
    "Examples\n",
    "is_isogram(&quot;Algorism&quot;) ➞ True\n",
    "is_isogram(&quot;PasSword&quot;) ➞ False\n",
    "# Not case sensitive.\n",
    "is_isogram(&quot;Consecutive&quot;) ➞ False\n",
    "Notes\n",
    " Ignore letter case (should not be case sensitive).\n",
    " All test cases contain valid one word strings."
   ]
  },
  {
   "cell_type": "code",
   "execution_count": 7,
   "id": "5468db8e",
   "metadata": {},
   "outputs": [],
   "source": [
    "def is_isogram(word):\n",
    "    word = word.lower()  # Convert the word to lowercase\n",
    "    letters = set(word)  # Create a set of unique letters in the word\n",
    "    return len(word) == len(letters)\n"
   ]
  },
  {
   "cell_type": "code",
   "execution_count": 8,
   "id": "df8fb7dd",
   "metadata": {},
   "outputs": [
    {
     "name": "stdout",
     "output_type": "stream",
     "text": [
      "True\n",
      "False\n",
      "False\n"
     ]
    }
   ],
   "source": [
    "print(is_isogram(\"Algorism\"))       # Output: True\n",
    "print(is_isogram(\"PasSword\"))       # Output: False\n",
    "print(is_isogram(\"Consecutive\"))    # Output: False\n"
   ]
  },
  {
   "cell_type": "markdown",
   "id": "40e5fa4e",
   "metadata": {},
   "source": [
    "# Question5\n",
    "Create a function that takes a string and returns True or False, depending on whether the\n",
    "characters are in order or not.\n",
    "Examples\n",
    "is_in_order(&quot;abc&quot;) ➞ True\n",
    "is_in_order(&quot;edabit&quot;) ➞ False\n",
    "is_in_order(&quot;123&quot;) ➞ True\n",
    "is_in_order(&quot;xyzz&quot;) ➞ True\n",
    "Notes\n",
    "You don&#39;t have to handle empty strings."
   ]
  },
  {
   "cell_type": "code",
   "execution_count": 9,
   "id": "b87f3bb8",
   "metadata": {},
   "outputs": [],
   "source": [
    "def is_in_order(string):\n",
    "    return string == ''.join(sorted(string))\n"
   ]
  },
  {
   "cell_type": "code",
   "execution_count": 10,
   "id": "db5a836a",
   "metadata": {},
   "outputs": [
    {
     "name": "stdout",
     "output_type": "stream",
     "text": [
      "True\n",
      "False\n",
      "True\n",
      "True\n"
     ]
    }
   ],
   "source": [
    "print(is_in_order(\"abc\"))          # Output: True\n",
    "print(is_in_order(\"edabit\"))       # Output: False\n",
    "print(is_in_order(\"123\"))          # Output: True\n",
    "print(is_in_order(\"xyzz\"))         # Output: True\n"
   ]
  },
  {
   "cell_type": "code",
   "execution_count": null,
   "id": "9d11e5ab",
   "metadata": {},
   "outputs": [],
   "source": []
  }
 ],
 "metadata": {
  "kernelspec": {
   "display_name": "Python 3 (ipykernel)",
   "language": "python",
   "name": "python3"
  },
  "language_info": {
   "codemirror_mode": {
    "name": "ipython",
    "version": 3
   },
   "file_extension": ".py",
   "mimetype": "text/x-python",
   "name": "python",
   "nbconvert_exporter": "python",
   "pygments_lexer": "ipython3",
   "version": "3.9.7"
  }
 },
 "nbformat": 4,
 "nbformat_minor": 5
}
