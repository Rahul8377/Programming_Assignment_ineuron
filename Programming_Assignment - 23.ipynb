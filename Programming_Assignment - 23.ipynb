{
 "cells": [
  {
   "cell_type": "markdown",
   "id": "3e2827c0",
   "metadata": {},
   "source": [
    "# Question 1\n",
    "Create a function that takes a number as an argument and returns True or False depending\n",
    "on whether the number is symmetrical or not. A number is symmetrical when it is the same as\n",
    "its reverse.\n",
    "Examples\n",
    "is_symmetrical(7227) ➞ True\n",
    "is_symmetrical(12567) ➞ False\n",
    "is_symmetrical(44444444) ➞ True\n",
    "is_symmetrical(9939) ➞ False\n",
    "is_symmetrical(1112111) ➞ True"
   ]
  },
  {
   "cell_type": "code",
   "execution_count": 1,
   "id": "d46ee29b",
   "metadata": {},
   "outputs": [],
   "source": [
    "def is_symmetrical(number):\n",
    "    # Convert the number to a string\n",
    "    number_str = str(number)\n",
    "    \n",
    "    # Check if the string is equal to its reverse\n",
    "    if number_str == number_str[::-1]:\n",
    "        return True\n",
    "    else:\n",
    "        return False\n"
   ]
  },
  {
   "cell_type": "code",
   "execution_count": 2,
   "id": "9e6dd69e",
   "metadata": {},
   "outputs": [
    {
     "name": "stdout",
     "output_type": "stream",
     "text": [
      "True\n",
      "False\n",
      "True\n",
      "False\n",
      "True\n"
     ]
    }
   ],
   "source": [
    "print(is_symmetrical(7227))  # True\n",
    "print(is_symmetrical(12567))  # False\n",
    "print(is_symmetrical(44444444))  # True\n",
    "print(is_symmetrical(9939))  # False\n",
    "print(is_symmetrical(1112111))  # True\n"
   ]
  },
  {
   "cell_type": "markdown",
   "id": "1bbd042d",
   "metadata": {},
   "source": [
    "# Question 2\n",
    "Given a string of numbers separated by a comma and space, return the product of the\n",
    "numbers.\n",
    "Examples\n",
    "multiply_nums(&quot;2, 3&quot;) ➞ 6\n",
    "multiply_nums(&quot;1, 2, 3, 4&quot;) ➞ 24\n",
    "multiply_nums(&quot;54, 75, 453, 0&quot;) ➞ 0\n",
    "multiply_nums(&quot;10, -2&quot;) ➞ -20"
   ]
  },
  {
   "cell_type": "code",
   "execution_count": 3,
   "id": "96b9b72d",
   "metadata": {},
   "outputs": [],
   "source": [
    "def multiply_nums(numbers):\n",
    "    # Split the string into a list of numbers\n",
    "    num_list = numbers.split(\", \")\n",
    "    \n",
    "    # Initialize the product to 1\n",
    "    product = 1\n",
    "    \n",
    "    # Multiply each number in the list\n",
    "    for num in num_list:\n",
    "        product *= int(num)\n",
    "    \n",
    "    return product\n"
   ]
  },
  {
   "cell_type": "code",
   "execution_count": 4,
   "id": "0c6e981a",
   "metadata": {},
   "outputs": [
    {
     "name": "stdout",
     "output_type": "stream",
     "text": [
      "6\n",
      "24\n",
      "0\n",
      "-20\n"
     ]
    }
   ],
   "source": [
    "print(multiply_nums(\"2, 3\"))  # 6\n",
    "print(multiply_nums(\"1, 2, 3, 4\"))  # 24\n",
    "print(multiply_nums(\"54, 75, 453, 0\"))  # 0\n",
    "print(multiply_nums(\"10, -2\"))  # -20\n"
   ]
  },
  {
   "cell_type": "markdown",
   "id": "0dd0b830",
   "metadata": {},
   "source": [
    "# Question 3\n",
    "Create a function that squares every digit of a number.\n",
    "Examples\n",
    "square_digits(9119) ➞ 811181\n",
    "square_digits(2483) ➞ 416649\n",
    "square_digits(3212) ➞ 9414\n",
    "Notes\n",
    "The function receives an integer and must return an integer."
   ]
  },
  {
   "cell_type": "code",
   "execution_count": 5,
   "id": "d3d1f299",
   "metadata": {},
   "outputs": [],
   "source": [
    "def square_digits(number):\n",
    "    # Convert the number to a string\n",
    "    number_str = str(number)\n",
    "    \n",
    "    # Initialize an empty string to store the squared digits\n",
    "    squared_str = \"\"\n",
    "    \n",
    "    # Square each digit and append it to the squared string\n",
    "    for digit in number_str:\n",
    "        squared_str += str(int(digit) ** 2)\n",
    "    \n",
    "    # Convert the squared string back to an integer\n",
    "    squared_number = int(squared_str)\n",
    "    \n",
    "    return squared_number\n"
   ]
  },
  {
   "cell_type": "code",
   "execution_count": 6,
   "id": "130195df",
   "metadata": {},
   "outputs": [
    {
     "name": "stdout",
     "output_type": "stream",
     "text": [
      "811181\n",
      "416649\n",
      "9414\n"
     ]
    }
   ],
   "source": [
    "print(square_digits(9119))  # 811181\n",
    "print(square_digits(2483))  # 416649\n",
    "print(square_digits(3212))  # 9414\n"
   ]
  },
  {
   "cell_type": "markdown",
   "id": "3f0ee69a",
   "metadata": {},
   "source": [
    "# Question 4\n",
    "Create a function that sorts a list and removes all duplicate items from it.\n",
    "Examples\n",
    "setify([1, 3, 3, 5, 5]) ➞ [1, 3, 5]\n",
    "setify([4, 4, 4, 4]) ➞ [4]\n",
    "setify([5, 7, 8, 9, 10, 15]) ➞ [5, 7, 8, 9, 10, 15]\n",
    "setify([3, 3, 3, 2, 1]) ➞ [1, 2, 3]"
   ]
  },
  {
   "cell_type": "code",
   "execution_count": 7,
   "id": "f1e8b736",
   "metadata": {},
   "outputs": [],
   "source": [
    "def setify(lst):\n",
    "    # Sort the list\n",
    "    sorted_list = sorted(lst)\n",
    "    \n",
    "    # Initialize an empty list to store unique elements\n",
    "    unique_list = []\n",
    "    \n",
    "    # Iterate over the sorted list\n",
    "    for item in sorted_list:\n",
    "        # Add item to unique_list if it's not already present\n",
    "        if item not in unique_list:\n",
    "            unique_list.append(item)\n",
    "    \n",
    "    return unique_list\n"
   ]
  },
  {
   "cell_type": "code",
   "execution_count": 8,
   "id": "46a736b6",
   "metadata": {},
   "outputs": [
    {
     "name": "stdout",
     "output_type": "stream",
     "text": [
      "[1, 3, 5]\n",
      "[4]\n",
      "[5, 7, 8, 9, 10, 15]\n",
      "[1, 2, 3]\n"
     ]
    }
   ],
   "source": [
    "print(setify([1, 3, 3, 5, 5]))  # [1, 3, 5]\n",
    "print(setify([4, 4, 4, 4]))  # [4]\n",
    "print(setify([5, 7, 8, 9, 10, 15]))  # [5, 7, 8, 9, 10, 15]\n",
    "print(setify([3, 3, 3, 2, 1]))  # [1, 2, 3]\n"
   ]
  },
  {
   "cell_type": "markdown",
   "id": "0944ac7d",
   "metadata": {},
   "source": [
    "# Question 5\n",
    "Create a function that returns the mean of all digits.\n",
    "Examples\n",
    "mean(42) ➞ 3\n",
    "mean(12345) ➞ 3\n",
    "mean(666) ➞ 6\n",
    "Notes\n",
    " The mean of all digits is the sum of digits / how many digits there are (e.g. mean of digits in\n",
    "512 is (5+1+2)/3(number of digits) = 8/3=2).\n",
    " The mean will always be an integer."
   ]
  },
  {
   "cell_type": "code",
   "execution_count": 9,
   "id": "e7b19fc7",
   "metadata": {},
   "outputs": [],
   "source": [
    "def mean(number):\n",
    "    # Convert the number to a string\n",
    "    number_str = str(number)\n",
    "    \n",
    "    # Calculate the sum of all digits\n",
    "    digit_sum = sum(int(digit) for digit in number_str)\n",
    "    \n",
    "    # Calculate the mean by dividing the digit sum by the number of digits\n",
    "    digit_count = len(number_str)\n",
    "    digit_mean = digit_sum // digit_count\n",
    "    \n",
    "    return digit_mean\n"
   ]
  },
  {
   "cell_type": "code",
   "execution_count": 10,
   "id": "38dbd8b7",
   "metadata": {},
   "outputs": [
    {
     "name": "stdout",
     "output_type": "stream",
     "text": [
      "3\n",
      "3\n",
      "6\n"
     ]
    }
   ],
   "source": [
    "print(mean(42))  # 3\n",
    "print(mean(12345))  # 3\n",
    "print(mean(666))  # 6\n"
   ]
  },
  {
   "cell_type": "code",
   "execution_count": null,
   "id": "1a43bfdc",
   "metadata": {},
   "outputs": [],
   "source": []
  }
 ],
 "metadata": {
  "kernelspec": {
   "display_name": "Python 3 (ipykernel)",
   "language": "python",
   "name": "python3"
  },
  "language_info": {
   "codemirror_mode": {
    "name": "ipython",
    "version": 3
   },
   "file_extension": ".py",
   "mimetype": "text/x-python",
   "name": "python",
   "nbconvert_exporter": "python",
   "pygments_lexer": "ipython3",
   "version": "3.9.7"
  }
 },
 "nbformat": 4,
 "nbformat_minor": 5
}
