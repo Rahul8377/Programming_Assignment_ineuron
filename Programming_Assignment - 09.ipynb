{
 "cells": [
  {
   "cell_type": "markdown",
   "id": "b2ce40d3",
   "metadata": {},
   "source": [
    "# 1. Write a Python program to check if the given number is a Disarium Number?"
   ]
  },
  {
   "cell_type": "code",
   "execution_count": 1,
   "id": "5e26a2e2",
   "metadata": {},
   "outputs": [
    {
     "name": "stdout",
     "output_type": "stream",
     "text": [
      "Enter a number: 265\n",
      "265 is not a Disarium number.\n"
     ]
    }
   ],
   "source": [
    "def is_disarium_number(number):\n",
    "    # Convert the number to a string to access individual digits\n",
    "    num_str = str(number)\n",
    "    \n",
    "    # Calculate the sum of each digit raised to its respective position\n",
    "    digit_sum = sum(int(digit) ** (index + 1) for index, digit in enumerate(num_str))\n",
    "    \n",
    "    # Check if the sum is equal to the original number\n",
    "    if digit_sum == number:\n",
    "        return True\n",
    "    else:\n",
    "        return False\n",
    "\n",
    "# Test the function\n",
    "num = int(input(\"Enter a number: \"))\n",
    "if is_disarium_number(num):\n",
    "    print(num, \"is a Disarium number.\")\n",
    "else:\n",
    "    print(num, \"is not a Disarium number.\")\n"
   ]
  },
  {
   "cell_type": "markdown",
   "id": "aedf37ec",
   "metadata": {},
   "source": [
    "# 2. Write a Python program to print all disarium numbers between 1 to 100?"
   ]
  },
  {
   "cell_type": "code",
   "execution_count": 2,
   "id": "8a5a0d3b",
   "metadata": {},
   "outputs": [
    {
     "name": "stdout",
     "output_type": "stream",
     "text": [
      "Disarium numbers between 1 and 100:\n",
      "1\n",
      "2\n",
      "3\n",
      "4\n",
      "5\n",
      "6\n",
      "7\n",
      "8\n",
      "9\n",
      "89\n"
     ]
    }
   ],
   "source": [
    "def is_disarium_number(number):\n",
    "    # Convert the number to a string to access individual digits\n",
    "    num_str = str(number)\n",
    "    \n",
    "    # Calculate the sum of each digit raised to its respective position\n",
    "    digit_sum = sum(int(digit) ** (index + 1) for index, digit in enumerate(num_str))\n",
    "    \n",
    "    # Check if the sum is equal to the original number\n",
    "    if digit_sum == number:\n",
    "        return True\n",
    "    else:\n",
    "        return False\n",
    "\n",
    "# Iterate from 1 to 100 and check if each number is a Disarium number\n",
    "disarium_numbers = []\n",
    "for num in range(1, 101):\n",
    "    if is_disarium_number(num):\n",
    "        disarium_numbers.append(num)\n",
    "\n",
    "# Print the Disarium numbers\n",
    "print(\"Disarium numbers between 1 and 100:\")\n",
    "for disarium_num in disarium_numbers:\n",
    "    print(disarium_num)\n"
   ]
  },
  {
   "cell_type": "markdown",
   "id": "86a41c9a",
   "metadata": {},
   "source": [
    "# 3. Write a Python program to check if the given number is Happy Number?"
   ]
  },
  {
   "cell_type": "code",
   "execution_count": 3,
   "id": "8cf9ad63",
   "metadata": {},
   "outputs": [
    {
     "name": "stdout",
     "output_type": "stream",
     "text": [
      "Enter a number: 456\n",
      "456 is not a Happy number.\n"
     ]
    }
   ],
   "source": [
    "def is_happy_number(number):\n",
    "    seen_numbers = set()  # Set to store seen numbers during the calculation\n",
    "    while True:\n",
    "        # Calculate the sum of squares of each digit\n",
    "        digit_sum = sum(int(digit) ** 2 for digit in str(number))\n",
    "        \n",
    "        # If the sum is 1, the number is a happy number\n",
    "        if digit_sum == 1:\n",
    "            return True\n",
    "        \n",
    "        # If the sum has been seen before, it's in a cycle and not a happy number\n",
    "        if digit_sum in seen_numbers:\n",
    "            return False\n",
    "        \n",
    "        # Add the current sum to the set of seen numbers\n",
    "        seen_numbers.add(digit_sum)\n",
    "        \n",
    "        # Update the number for the next iteration\n",
    "        number = digit_sum\n",
    "\n",
    "# Test the function\n",
    "num = int(input(\"Enter a number: \"))\n",
    "if is_happy_number(num):\n",
    "    print(num, \"is a Happy number.\")\n",
    "else:\n",
    "    print(num, \"is not a Happy number.\")\n"
   ]
  },
  {
   "cell_type": "markdown",
   "id": "f063349c",
   "metadata": {},
   "source": [
    "# 4. Write a Python program to print all happy numbers between 1 and 100?"
   ]
  },
  {
   "cell_type": "code",
   "execution_count": 4,
   "id": "517576d5",
   "metadata": {},
   "outputs": [
    {
     "name": "stdout",
     "output_type": "stream",
     "text": [
      "Happy numbers between 1 and 100:\n",
      "1\n",
      "7\n",
      "10\n",
      "13\n",
      "19\n",
      "23\n",
      "28\n",
      "31\n",
      "32\n",
      "44\n",
      "49\n",
      "68\n",
      "70\n",
      "79\n",
      "82\n",
      "86\n",
      "91\n",
      "94\n",
      "97\n",
      "100\n"
     ]
    }
   ],
   "source": [
    "def is_happy_number(number):\n",
    "    seen_numbers = set()  # Set to store seen numbers during the calculation\n",
    "    while True:\n",
    "        # Calculate the sum of squares of each digit\n",
    "        digit_sum = sum(int(digit) ** 2 for digit in str(number))\n",
    "        \n",
    "        # If the sum is 1, the number is a happy number\n",
    "        if digit_sum == 1:\n",
    "            return True\n",
    "        \n",
    "        # If the sum has been seen before, it's in a cycle and not a happy number\n",
    "        if digit_sum in seen_numbers:\n",
    "            return False\n",
    "        \n",
    "        # Add the current sum to the set of seen numbers\n",
    "        seen_numbers.add(digit_sum)\n",
    "        \n",
    "        # Update the number for the next iteration\n",
    "        number = digit_sum\n",
    "\n",
    "# Iterate from 1 to 100 and check if each number is a Happy number\n",
    "happy_numbers = []\n",
    "for num in range(1, 101):\n",
    "    if is_happy_number(num):\n",
    "        happy_numbers.append(num)\n",
    "\n",
    "# Print the Happy numbers\n",
    "print(\"Happy numbers between 1 and 100:\")\n",
    "for happy_num in happy_numbers:\n",
    "    print(happy_num)\n"
   ]
  },
  {
   "cell_type": "markdown",
   "id": "fd7ae7fe",
   "metadata": {},
   "source": [
    "# 5. Write a Python program to determine whether the given number is a Harshad Number?"
   ]
  },
  {
   "cell_type": "code",
   "execution_count": 1,
   "id": "c08e36cf",
   "metadata": {},
   "outputs": [
    {
     "name": "stdout",
     "output_type": "stream",
     "text": [
      "Enter a number: 56\n",
      "56 is not a Harshad number.\n"
     ]
    }
   ],
   "source": [
    "def is_harshad_number(number):\n",
    "    # Calculate the sum of digits\n",
    "    digit_sum = sum(int(digit) for digit in str(number))\n",
    "    \n",
    "    # Check if the number is divisible by the sum of digits\n",
    "    if number % digit_sum == 0:\n",
    "        return True\n",
    "    else:\n",
    "        return False\n",
    "\n",
    "# Test the function\n",
    "num = int(input(\"Enter a number: \"))\n",
    "if is_harshad_number(num):\n",
    "    print(num, \"is a Harshad number.\")\n",
    "else:\n",
    "    print(num, \"is not a Harshad number.\")\n"
   ]
  },
  {
   "cell_type": "markdown",
   "id": "a4f1804f",
   "metadata": {},
   "source": [
    "# 6. Write a Python program to print all pronic numbers between 1 and 100?"
   ]
  },
  {
   "cell_type": "code",
   "execution_count": 2,
   "id": "5b565f9b",
   "metadata": {},
   "outputs": [
    {
     "name": "stdout",
     "output_type": "stream",
     "text": [
      "Pronic numbers between 1 and 100:\n",
      "2\n",
      "6\n",
      "12\n",
      "20\n",
      "30\n",
      "42\n",
      "56\n",
      "72\n",
      "90\n"
     ]
    }
   ],
   "source": [
    "def is_pronic_number(number):\n",
    "    # Find the square root of the number and convert it to an integer\n",
    "    root = int(number ** 0.5)\n",
    "    \n",
    "    # Check if the product of two consecutive integers is equal to the number\n",
    "    if root * (root + 1) == number:\n",
    "        return True\n",
    "    else:\n",
    "        return False\n",
    "\n",
    "# Iterate from 1 to 100 and check if each number is a pronic number\n",
    "pronic_numbers = []\n",
    "for num in range(1, 101):\n",
    "    if is_pronic_number(num):\n",
    "        pronic_numbers.append(num)\n",
    "\n",
    "# Print the pronic numbers\n",
    "print(\"Pronic numbers between 1 and 100:\")\n",
    "for pronic_num in pronic_numbers:\n",
    "    print(pronic_num)\n"
   ]
  },
  {
   "cell_type": "code",
   "execution_count": null,
   "id": "afcfbc99",
   "metadata": {},
   "outputs": [],
   "source": []
  }
 ],
 "metadata": {
  "kernelspec": {
   "display_name": "Python 3 (ipykernel)",
   "language": "python",
   "name": "python3"
  },
  "language_info": {
   "codemirror_mode": {
    "name": "ipython",
    "version": 3
   },
   "file_extension": ".py",
   "mimetype": "text/x-python",
   "name": "python",
   "nbconvert_exporter": "python",
   "pygments_lexer": "ipython3",
   "version": "3.9.7"
  }
 },
 "nbformat": 4,
 "nbformat_minor": 5
}
