{
 "cells": [
  {
   "cell_type": "markdown",
   "id": "b4b0e8f5",
   "metadata": {},
   "source": [
    "Question 1:\n",
    "Write a program that calculates and prints the value according to the given formula:\n",
    "Q = Square root of [(2 * C * D)/H]\n",
    "Following are the fixed values of C and H:\n",
    "C is 50. H is 30.\n",
    "D is the variable whose values should be input to your program in a comma-separated\n",
    "sequence.\n",
    "Example\n",
    "Let us assume the following comma separated input sequence is given to the program:\n",
    "100,150,180\n",
    "The output of the program should be:\n",
    "18,22,24"
   ]
  },
  {
   "cell_type": "code",
   "execution_count": 1,
   "id": "721db896",
   "metadata": {},
   "outputs": [
    {
     "name": "stdout",
     "output_type": "stream",
     "text": [
      "Enter the comma-separated sequence of D values: 180,25,100\n",
      "The output of the program is: 24,9,18\n"
     ]
    }
   ],
   "source": [
    "import math\n",
    "\n",
    "def calculate_values(input_sequence):\n",
    "    result = []\n",
    "    C = 50\n",
    "    H = 30\n",
    "\n",
    "    # Splitting the input sequence into a list of integers\n",
    "    values = [int(x) for x in input_sequence.split(',')]\n",
    "\n",
    "    # Calculating and appending the results to the result list\n",
    "    for D in values:\n",
    "        Q = int(math.sqrt((2 * C * D) / H))\n",
    "        result.append(Q)\n",
    "\n",
    "    # Joining the result list into a comma-separated string\n",
    "    output = ','.join(str(x) for x in result)\n",
    "    return output\n",
    "\n",
    "# Example usage\n",
    "input_sequence = input(\"Enter the comma-separated sequence of D values: \")\n",
    "output = calculate_values(input_sequence)\n",
    "print(\"The output of the program is:\", output)\n"
   ]
  },
  {
   "cell_type": "markdown",
   "id": "4aa44dbe",
   "metadata": {},
   "source": [
    "Question 2:\n",
    "Write a program which takes 2 digits, X,Y as input and generates a 2-dimensional array. The\n",
    "element value in the i-th row and j-th column of the array should be i*j.\n",
    "Note: i=0,1.., X-1; j=0,1,¡Y-1.\n",
    "Example\n",
    "Suppose the following inputs are given to the program:\n",
    "3,5\n",
    "Then, the output of the program should be:\n",
    "[[0, 0, 0, 0, 0], [0, 1, 2, 3, 4], [0, 2, 4, 6, 8]]"
   ]
  },
  {
   "cell_type": "code",
   "execution_count": 2,
   "id": "4d6e196c",
   "metadata": {},
   "outputs": [
    {
     "name": "stdout",
     "output_type": "stream",
     "text": [
      "Enter the value of X: 6\n",
      "Enter the value of Y: 8\n",
      "The output of the program is: [[0, 0, 0, 0, 0, 0, 0, 0], [0, 1, 2, 3, 4, 5, 6, 7], [0, 2, 4, 6, 8, 10, 12, 14], [0, 3, 6, 9, 12, 15, 18, 21], [0, 4, 8, 12, 16, 20, 24, 28], [0, 5, 10, 15, 20, 25, 30, 35]]\n"
     ]
    }
   ],
   "source": [
    "def generate_array(X, Y):\n",
    "    # Creating an empty 2-dimensional array\n",
    "    array = [[0 for j in range(Y)] for i in range(X)]\n",
    "\n",
    "    # Filling the array with the element values\n",
    "    for i in range(X):\n",
    "        for j in range(Y):\n",
    "            array[i][j] = i * j\n",
    "\n",
    "    return array\n",
    "\n",
    "# Example usage\n",
    "X = int(input(\"Enter the value of X: \"))\n",
    "Y = int(input(\"Enter the value of Y: \"))\n",
    "output = generate_array(X, Y)\n",
    "print(\"The output of the program is:\", output)\n"
   ]
  },
  {
   "cell_type": "markdown",
   "id": "ecd933b2",
   "metadata": {},
   "source": [
    "Question 3:\n",
    "Write a program that accepts a comma separated sequence of words as input and prints the\n",
    "words in a comma-separated sequence after sorting them alphabetically.\n",
    "Suppose the following input is supplied to the program:\n",
    "without,hello,bag,world\n",
    "Then, the output should be:\n",
    "bag,hello,without,world"
   ]
  },
  {
   "cell_type": "code",
   "execution_count": 3,
   "id": "f80df827",
   "metadata": {},
   "outputs": [
    {
     "name": "stdout",
     "output_type": "stream",
     "text": [
      "Enter a comma-separated sequence of words: rahul,good,travel,world\n",
      "The output of the program is: good,rahul,travel,world\n"
     ]
    }
   ],
   "source": [
    "def sort_words(input_sequence):\n",
    "    # Splitting the input sequence into a list of words\n",
    "    words = input_sequence.split(',')\n",
    "\n",
    "    # Sorting the words alphabetically\n",
    "    sorted_words = sorted(words)\n",
    "\n",
    "    # Joining the sorted words into a comma-separated string\n",
    "    output = ','.join(sorted_words)\n",
    "    return output\n",
    "\n",
    "# Example usage\n",
    "input_sequence = input(\"Enter a comma-separated sequence of words: \")\n",
    "output = sort_words(input_sequence)\n",
    "print(\"The output of the program is:\", output)\n"
   ]
  },
  {
   "cell_type": "markdown",
   "id": "7619a182",
   "metadata": {},
   "source": [
    "Question 4:\n",
    "Write a program that accepts a sequence of whitespace separated words as input and prints\n",
    "the words after removing all duplicate words and sorting them alphanumerically.\n",
    "Suppose the following input is supplied to the program:\n",
    "hello world and practice makes perfect and hello world again\n",
    "Then, the output should be:\n",
    "again and hello makes perfect practice world"
   ]
  },
  {
   "cell_type": "code",
   "execution_count": 4,
   "id": "d183574d",
   "metadata": {},
   "outputs": [
    {
     "name": "stdout",
     "output_type": "stream",
     "text": [
      "Enter a whitespace-separated sequence of words: Enter a whitespace-separated sequence of words: hello world and practice makes perfect and hello world again\n",
      "The output of the program is: Enter a again and hello makes of perfect practice sequence whitespace-separated words: world\n"
     ]
    }
   ],
   "source": [
    "def remove_duplicates_sort_words(input_sequence):\n",
    "    # Splitting the input sequence into a list of words\n",
    "    words = input_sequence.split()\n",
    "\n",
    "    # Removing duplicate words while preserving the order\n",
    "    unique_words = list(dict.fromkeys(words))\n",
    "\n",
    "    # Sorting the unique words alphanumerically\n",
    "    sorted_words = sorted(unique_words)\n",
    "\n",
    "    # Joining the sorted words into a whitespace-separated string\n",
    "    output = ' '.join(sorted_words)\n",
    "    return output\n",
    "\n",
    "# Example usage\n",
    "input_sequence = input(\"Enter a whitespace-separated sequence of words: \")\n",
    "output = remove_duplicates_sort_words(input_sequence)\n",
    "print(\"The output of the program is:\", output)\n"
   ]
  },
  {
   "cell_type": "markdown",
   "id": "75bbfdcf",
   "metadata": {},
   "source": [
    "Question 5:\n",
    "Write a program that accepts a sentence and calculate the number of letters and digits.\n",
    "Suppose the following input is supplied to the program:\n",
    "hello world! 123\n",
    "Then, the output should be:\n",
    "LETTERS 10\n",
    "\n",
    "DIGITS 3"
   ]
  },
  {
   "cell_type": "code",
   "execution_count": 5,
   "id": "f661b9e5",
   "metadata": {},
   "outputs": [
    {
     "name": "stdout",
     "output_type": "stream",
     "text": [
      "Enter a sentence: hello world! 123\n",
      "LETTERS 10\n",
      "DIGITS 3\n"
     ]
    }
   ],
   "source": [
    "def count_letters_digits(sentence):\n",
    "    letters = 0\n",
    "    digits = 0\n",
    "\n",
    "    # Counting the number of letters and digits in the sentence\n",
    "    for char in sentence:\n",
    "        if char.isalpha():\n",
    "            letters += 1\n",
    "        elif char.isdigit():\n",
    "            digits += 1\n",
    "\n",
    "    return letters, digits\n",
    "\n",
    "# Example usage\n",
    "sentence = input(\"Enter a sentence: \")\n",
    "letter_count, digit_count = count_letters_digits(sentence)\n",
    "print(\"LETTERS\", letter_count)\n",
    "print(\"DIGITS\", digit_count)\n"
   ]
  },
  {
   "cell_type": "markdown",
   "id": "2dde6084",
   "metadata": {},
   "source": [
    "Question 6:\n",
    "A website requires the users to input username and password to register. Write a program to\n",
    "check the validity of password input by users.\n",
    "Following are the criteria for checking the password:\n",
    "1. At least 1 letter between [a-z]\n",
    "2. At least 1 number between [0-9]\n",
    "1. At least 1 letter between [A-Z]\n",
    "3. At least 1 character from [$#@]\n",
    "4. Minimum length of transaction password: 6\n",
    "5. Maximum length of transaction password: 12\n",
    "Your program should accept a sequence of comma separated passwords and will check them\n",
    "according to the above criteria. Passwords that match the criteria are to be printed, each\n",
    "separated by a comma.\n",
    "Example\n",
    "If the following passwords are given as input to the program:\n",
    "ABd1234@1,a F1#,2w3E*,2We3345\n",
    "Then, the output of the program should be:\n",
    "ABd1234@1"
   ]
  },
  {
   "cell_type": "code",
   "execution_count": 6,
   "id": "c34ae2ab",
   "metadata": {},
   "outputs": [
    {
     "name": "stdout",
     "output_type": "stream",
     "text": [
      "Enter comma-separated passwords: Rahul@123, @5675gyfdy,67253bsmjdDS\n",
      "Valid passwords: Rahul@123\n"
     ]
    }
   ],
   "source": [
    "import re\n",
    "\n",
    "def check_password_validity(password):\n",
    "    if len(password) < 6 or len(password) > 12:\n",
    "        return False\n",
    "\n",
    "    if not re.search(r\"[a-z]\", password):\n",
    "        return False\n",
    "\n",
    "    if not re.search(r\"[0-9]\", password):\n",
    "        return False\n",
    "\n",
    "    if not re.search(r\"[A-Z]\", password):\n",
    "        return False\n",
    "\n",
    "    if not re.search(r\"[$#@]\", password):\n",
    "        return False\n",
    "\n",
    "    return True\n",
    "\n",
    "# Example usage\n",
    "passwords = input(\"Enter comma-separated passwords: \")\n",
    "password_list = passwords.split(',')\n",
    "\n",
    "valid_passwords = []\n",
    "for password in password_list:\n",
    "    if check_password_validity(password):\n",
    "        valid_passwords.append(password)\n",
    "\n",
    "output = ','.join(valid_passwords)\n",
    "print(\"Valid passwords:\", output)\n"
   ]
  },
  {
   "cell_type": "code",
   "execution_count": null,
   "id": "9b43f09e",
   "metadata": {},
   "outputs": [],
   "source": []
  }
 ],
 "metadata": {
  "kernelspec": {
   "display_name": "Python 3 (ipykernel)",
   "language": "python",
   "name": "python3"
  },
  "language_info": {
   "codemirror_mode": {
    "name": "ipython",
    "version": 3
   },
   "file_extension": ".py",
   "mimetype": "text/x-python",
   "name": "python",
   "nbconvert_exporter": "python",
   "pygments_lexer": "ipython3",
   "version": "3.9.7"
  }
 },
 "nbformat": 4,
 "nbformat_minor": 5
}
