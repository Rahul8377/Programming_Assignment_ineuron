{
 "cells": [
  {
   "cell_type": "markdown",
   "id": "f4435b85",
   "metadata": {},
   "source": [
    "# Question1\n",
    "Create a function that takes an integer and returns a list from 1 to the given number, where:\n",
    "1. If the number can be divided evenly by 4, amplify it by 10 (i.e. return 10 times the\n",
    "number).\n",
    "2. If the number cannot be divided evenly by 4, simply return the number.\n",
    "Examples\n",
    "amplify(4) ➞ [1, 2, 3, 40]\n",
    "amplify(3) ➞ [1, 2, 3]\n",
    "amplify(25) ➞ [1, 2, 3, 40, 5, 6, 7, 80, 9, 10, 11, 120, 13, 14, 15, 160,\n",
    "17, 18, 19, 200, 21, 22, 23, 240, 25]\n",
    "Notes\n",
    " The given integer will always be equal to or greater than 1.\n",
    " Include the number (see example above).\n",
    " To perform this problem with its intended purpose, try doing it with list\n",
    "comprehensions. If that&#39;s too difficult, just solve the challenge any way you can."
   ]
  },
  {
   "cell_type": "code",
   "execution_count": 1,
   "id": "65a30d7d",
   "metadata": {},
   "outputs": [],
   "source": [
    "def amplify(num):\n",
    "    return [n * 10 if n % 4 == 0 else n for n in range(1, num + 1)]\n"
   ]
  },
  {
   "cell_type": "code",
   "execution_count": 2,
   "id": "18ca8859",
   "metadata": {},
   "outputs": [
    {
     "name": "stdout",
     "output_type": "stream",
     "text": [
      "[1, 2, 3, 40]\n",
      "[1, 2, 3]\n",
      "[1, 2, 3, 40, 5, 6, 7, 80, 9, 10, 11, 120, 13, 14, 15, 160, 17, 18, 19, 200, 21, 22, 23, 240, 25]\n"
     ]
    }
   ],
   "source": [
    "print(amplify(4))  # Output: [1, 2, 3, 40]\n",
    "print(amplify(3))  # Output: [1, 2, 3]\n",
    "print(amplify(25))  # Output: [1, 2, 3, 40, 5, 6, 7, 80, 9, 10, 11, 120, 13, 14, 15, 160, 17, 18, 19, 200, 21, 22, 23, 240, 25]\n"
   ]
  },
  {
   "cell_type": "markdown",
   "id": "e7768301",
   "metadata": {},
   "source": [
    "# Question2\n",
    "Create a function that takes a list of numbers and return the number that&#39;s unique.\n",
    "Examples\n",
    "unique([3, 3, 3, 7, 3, 3]) ➞ 7\n",
    "unique([0, 0, 0.77, 0, 0]) ➞ 0.77\n",
    "unique([0, 1, 1, 1, 1, 1, 1, 1]) ➞ 0\n",
    "Notes\n",
    "Test cases will always have exactly one unique number while all others are the same."
   ]
  },
  {
   "cell_type": "code",
   "execution_count": 3,
   "id": "243fbc99",
   "metadata": {},
   "outputs": [
    {
     "name": "stdout",
     "output_type": "stream",
     "text": [
      "7\n",
      "0.77\n",
      "0\n"
     ]
    }
   ],
   "source": [
    "def unique(numbers):\n",
    "    # Iterate through each number in the list\n",
    "    for num in numbers:\n",
    "        # Check if the current number appears only once in the list\n",
    "        if numbers.count(num) == 1:\n",
    "            return num  # Return the unique number\n",
    "\n",
    "# Example test cases\n",
    "print(unique([3, 3, 3, 7, 3, 3]))  # Output: 7\n",
    "print(unique([0, 0, 0.77, 0, 0]))  # Output: 0.77\n",
    "print(unique([0, 1, 1, 1, 1, 1, 1, 1]))  # Output: 0\n"
   ]
  },
  {
   "cell_type": "markdown",
   "id": "0ef69364",
   "metadata": {},
   "source": [
    "# Question3\n",
    "Your task is to create a Circle constructor that creates a circle with a radius provided by an\n",
    "argument. The circles constructed must have two getters getArea() (PIr^2) and\n",
    "getPerimeter() (2PI*r) which give both respective areas and perimeter (circumference).\n",
    "\n",
    "For help with this class, I have provided you with a Rectangle constructor which you can use\n",
    "as a base example.\n",
    "Examples\n",
    "circy = Circle(11)\n",
    "circy.getArea()\n",
    "# Should return 380.132711084365\n",
    "circy = Circle(4.44)\n",
    "circy.getPerimeter()\n",
    "# Should return 27.897342763877365\n",
    "Notes\n",
    "Round results up to the nearest integer."
   ]
  },
  {
   "cell_type": "code",
   "execution_count": 4,
   "id": "455ae3b0",
   "metadata": {},
   "outputs": [],
   "source": [
    "import math\n",
    "\n",
    "class Circle:\n",
    "    def __init__(self, radius):\n",
    "        self.radius = radius\n",
    "\n",
    "    def getArea(self):\n",
    "        area = math.pi * self.radius**2\n",
    "        return round(area)\n",
    "\n",
    "    def getPerimeter(self):\n",
    "        perimeter = 2 * math.pi * self.radius\n",
    "        return round(perimeter)\n"
   ]
  },
  {
   "cell_type": "code",
   "execution_count": 5,
   "id": "5983cb04",
   "metadata": {},
   "outputs": [
    {
     "name": "stdout",
     "output_type": "stream",
     "text": [
      "380\n",
      "69\n",
      "62\n",
      "28\n"
     ]
    }
   ],
   "source": [
    "circy = Circle(11)\n",
    "print(circy.getArea())       # Output: 380\n",
    "print(circy.getPerimeter())  # Output: 69\n",
    "\n",
    "circy = Circle(4.44)\n",
    "print(circy.getArea())       # Output: 62\n",
    "print(circy.getPerimeter())  # Output: 28\n"
   ]
  },
  {
   "cell_type": "markdown",
   "id": "968b7c3e",
   "metadata": {},
   "source": [
    "# Question4\n",
    "Create a function that takes a list of strings and return a list, sorted from shortest to longest.\n",
    "Examples\n",
    "sort_by_length([&quot;Google&quot;, &quot;Apple&quot;, &quot;Microsoft&quot;])\n",
    "➞ [&quot;Apple&quot;, &quot;Google&quot;, &quot;Microsoft&quot;]\n",
    "sort_by_length([&quot;Leonardo&quot;, &quot;Michelangelo&quot;, &quot;Raphael&quot;, &quot;Donatello&quot;])\n",
    "➞ [&quot;Raphael&quot;, &quot;Leonardo&quot;, &quot;Donatello&quot;, &quot;Michelangelo&quot;]\n",
    "sort_by_length([&quot;Turing&quot;, &quot;Einstein&quot;, &quot;Jung&quot;])\n",
    "➞ [&quot;Jung&quot;, &quot;Turing&quot;, &quot;Einstein&quot;]\n",
    "Notes\n",
    "All test cases contain lists with strings of different lengths, so you won&#39;t have to deal with\n",
    "multiple strings of the same length."
   ]
  },
  {
   "cell_type": "code",
   "execution_count": 6,
   "id": "7bd15f87",
   "metadata": {},
   "outputs": [],
   "source": [
    "def sort_by_length(lst):\n",
    "    return sorted(lst, key=len)\n"
   ]
  },
  {
   "cell_type": "code",
   "execution_count": 7,
   "id": "c8167a81",
   "metadata": {},
   "outputs": [
    {
     "name": "stdout",
     "output_type": "stream",
     "text": [
      "['Apple', 'Google', 'Microsoft']\n",
      "['Raphael', 'Leonardo', 'Donatello', 'Michelangelo']\n",
      "['Jung', 'Turing', 'Einstein']\n"
     ]
    }
   ],
   "source": [
    "print(sort_by_length([\"Google\", \"Apple\", \"Microsoft\"]))\n",
    "# Output: [\"Apple\", \"Google\", \"Microsoft\"]\n",
    "\n",
    "print(sort_by_length([\"Leonardo\", \"Michelangelo\", \"Raphael\", \"Donatello\"]))\n",
    "# Output: [\"Raphael\", \"Leonardo\", \"Donatello\", \"Michelangelo\"]\n",
    "\n",
    "print(sort_by_length([\"Turing\", \"Einstein\", \"Jung\"]))\n",
    "# Output: [\"Jung\", \"Turing\", \"Einstein\"]\n"
   ]
  },
  {
   "cell_type": "markdown",
   "id": "6adcdcbd",
   "metadata": {},
   "source": [
    "# Question5\n",
    "Create a function that validates whether three given integers form a Pythagorean triplet. The\n",
    "sum of the squares of the two smallest integers must equal the square of the largest number to\n",
    "be validated.\n",
    "\n",
    "Examples\n",
    "is_triplet(3, 4, 5) ➞ True\n",
    "# 3² + 4² = 25\n",
    "# 5² = 25\n",
    "is_triplet(13, 5, 12) ➞ True\n",
    "# 5² + 12² = 169\n",
    "# 13² = 169\n",
    "is_triplet(1, 2, 3) ➞ False\n",
    "# 1² + 2² = 5\n",
    "# 3² = 9\n",
    "Notes\n",
    "Numbers may not be given in a sorted"
   ]
  },
  {
   "cell_type": "code",
   "execution_count": 8,
   "id": "29f2ef9a",
   "metadata": {},
   "outputs": [],
   "source": [
    "def is_triplet(num1, num2, num3):\n",
    "    nums = [num1, num2, num3]\n",
    "    nums.sort()\n",
    "    return nums[0]**2 + nums[1]**2 == nums[2]**2\n"
   ]
  },
  {
   "cell_type": "code",
   "execution_count": 9,
   "id": "06b7510a",
   "metadata": {},
   "outputs": [
    {
     "name": "stdout",
     "output_type": "stream",
     "text": [
      "True\n",
      "True\n",
      "False\n"
     ]
    }
   ],
   "source": [
    "print(is_triplet(3, 4, 5))\n",
    "# Output: True\n",
    "\n",
    "print(is_triplet(13, 5, 12))\n",
    "# Output: True\n",
    "\n",
    "print(is_triplet(1, 2, 3))\n",
    "# Output: False\n"
   ]
  },
  {
   "cell_type": "code",
   "execution_count": null,
   "id": "f6024f4b",
   "metadata": {},
   "outputs": [],
   "source": []
  }
 ],
 "metadata": {
  "kernelspec": {
   "display_name": "Python 3 (ipykernel)",
   "language": "python",
   "name": "python3"
  },
  "language_info": {
   "codemirror_mode": {
    "name": "ipython",
    "version": 3
   },
   "file_extension": ".py",
   "mimetype": "text/x-python",
   "name": "python",
   "nbconvert_exporter": "python",
   "pygments_lexer": "ipython3",
   "version": "3.9.7"
  }
 },
 "nbformat": 4,
 "nbformat_minor": 5
}
