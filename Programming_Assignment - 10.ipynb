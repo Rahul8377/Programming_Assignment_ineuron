{
 "cells": [
  {
   "cell_type": "markdown",
   "id": "83d2c702",
   "metadata": {},
   "source": [
    "# 1. Write a Python program to find sum of elements in list?"
   ]
  },
  {
   "cell_type": "code",
   "execution_count": 1,
   "id": "af51428b",
   "metadata": {},
   "outputs": [
    {
     "name": "stdout",
     "output_type": "stream",
     "text": [
      "Sum of elements: 15\n"
     ]
    }
   ],
   "source": [
    "def find_sum(elements):\n",
    "    # Initialize the sum to 0\n",
    "    total_sum = 0\n",
    "    \n",
    "    # Iterate through each element and add it to the sum\n",
    "    for element in elements:\n",
    "        total_sum += element\n",
    "    \n",
    "    return total_sum\n",
    "\n",
    "# Test the function\n",
    "my_list = [1, 2, 3, 4, 5]\n",
    "sum_of_elements = find_sum(my_list)\n",
    "print(\"Sum of elements:\", sum_of_elements)\n"
   ]
  },
  {
   "cell_type": "markdown",
   "id": "392bf3b0",
   "metadata": {},
   "source": [
    "# 2. Write a Python program to Multiply all numbers in the list?"
   ]
  },
  {
   "cell_type": "code",
   "execution_count": 2,
   "id": "a998f773",
   "metadata": {},
   "outputs": [
    {
     "name": "stdout",
     "output_type": "stream",
     "text": [
      "Product of numbers: 120\n"
     ]
    }
   ],
   "source": [
    "def multiply_numbers(numbers):\n",
    "    # Initialize the product to 1\n",
    "    product = 1\n",
    "    \n",
    "    # Iterate through each number and multiply it with the product\n",
    "    for number in numbers:\n",
    "        product *= number\n",
    "    \n",
    "    return product\n",
    "\n",
    "# Test the function\n",
    "my_list = [2, 3, 4, 5]\n",
    "result = multiply_numbers(my_list)\n",
    "print(\"Product of numbers:\", result)\n"
   ]
  },
  {
   "cell_type": "markdown",
   "id": "05f5b109",
   "metadata": {},
   "source": [
    "# 3. Write a Python program to find smallest number in a list?"
   ]
  },
  {
   "cell_type": "code",
   "execution_count": 3,
   "id": "a22bfcb5",
   "metadata": {},
   "outputs": [
    {
     "name": "stdout",
     "output_type": "stream",
     "text": [
      "Smallest number: 1\n"
     ]
    }
   ],
   "source": [
    "def find_smallest_number(numbers):\n",
    "    # Assume the first number as the smallest\n",
    "    smallest = numbers[0]\n",
    "    \n",
    "    # Iterate through the remaining numbers\n",
    "    for number in numbers[1:]:\n",
    "        # If the current number is smaller than the assumed smallest, update the smallest\n",
    "        if number < smallest:\n",
    "            smallest = number\n",
    "    \n",
    "    return smallest\n",
    "\n",
    "# Test the function\n",
    "my_list = [5, 2, 8, 1, 4]\n",
    "smallest_number = find_smallest_number(my_list)\n",
    "print(\"Smallest number:\", smallest_number)\n"
   ]
  },
  {
   "cell_type": "markdown",
   "id": "19c9817a",
   "metadata": {},
   "source": [
    "# 4. Write a Python program to find largest number in a list?"
   ]
  },
  {
   "cell_type": "code",
   "execution_count": 4,
   "id": "cedcf460",
   "metadata": {},
   "outputs": [
    {
     "name": "stdout",
     "output_type": "stream",
     "text": [
      "Largest number: 8\n"
     ]
    }
   ],
   "source": [
    "def find_largest_number(numbers):\n",
    "    # Assume the first number as the largest\n",
    "    largest = numbers[0]\n",
    "    \n",
    "    # Iterate through the remaining numbers\n",
    "    for number in numbers[1:]:\n",
    "        # If the current number is larger than the assumed largest, update the largest\n",
    "        if number > largest:\n",
    "            largest = number\n",
    "    \n",
    "    return largest\n",
    "\n",
    "# Test the function\n",
    "my_list = [5, 2, 8, 1, 4]\n",
    "largest_number = find_largest_number(my_list)\n",
    "print(\"Largest number:\", largest_number)\n"
   ]
  },
  {
   "cell_type": "markdown",
   "id": "ba728ebe",
   "metadata": {},
   "source": [
    "# 5. Write a Python program to find second largest number in a list?"
   ]
  },
  {
   "cell_type": "code",
   "execution_count": 5,
   "id": "c71779d1",
   "metadata": {},
   "outputs": [
    {
     "name": "stdout",
     "output_type": "stream",
     "text": [
      "Second largest number: 5\n"
     ]
    }
   ],
   "source": [
    "def find_second_largest_number(numbers):\n",
    "    # Assume the first number as the largest and the second largest\n",
    "    largest = numbers[0]\n",
    "    second_largest = numbers[0]\n",
    "    \n",
    "    # Iterate through the remaining numbers\n",
    "    for number in numbers[1:]:\n",
    "        # If the current number is larger than the largest, update both largest and second largest\n",
    "        if number > largest:\n",
    "            second_largest = largest\n",
    "            largest = number\n",
    "        # If the current number is larger than the second largest but not the largest, update the second largest\n",
    "        elif number > second_largest:\n",
    "            second_largest = number\n",
    "    \n",
    "    return second_largest\n",
    "\n",
    "# Test the function\n",
    "my_list = [5, 2, 8, 1, 4]\n",
    "second_largest_number = find_second_largest_number(my_list)\n",
    "print(\"Second largest number:\", second_largest_number)\n"
   ]
  },
  {
   "cell_type": "markdown",
   "id": "055935f5",
   "metadata": {},
   "source": [
    "# 6. Write a Python program to find N largest elements from a list?"
   ]
  },
  {
   "cell_type": "code",
   "execution_count": 6,
   "id": "42aa48e0",
   "metadata": {},
   "outputs": [
    {
     "name": "stdout",
     "output_type": "stream",
     "text": [
      "Largest 3 elements: [8, 5, 4]\n"
     ]
    }
   ],
   "source": [
    "def find_n_largest_elements(numbers, n):\n",
    "    # Sort the list in descending order\n",
    "    sorted_numbers = sorted(numbers, reverse=True)\n",
    "    \n",
    "    # Get the first N elements from the sorted list\n",
    "    n_largest_elements = sorted_numbers[:n]\n",
    "    \n",
    "    return n_largest_elements\n",
    "\n",
    "# Test the function\n",
    "my_list = [5, 2, 8, 1, 4]\n",
    "N = 3\n",
    "largest_elements = find_n_largest_elements(my_list, N)\n",
    "print(\"Largest\", N, \"elements:\", largest_elements)\n"
   ]
  },
  {
   "cell_type": "markdown",
   "id": "dea16458",
   "metadata": {},
   "source": [
    "# 7. Write a Python program to print even numbers in a list?"
   ]
  },
  {
   "cell_type": "code",
   "execution_count": 7,
   "id": "bb1974ed",
   "metadata": {},
   "outputs": [
    {
     "name": "stdout",
     "output_type": "stream",
     "text": [
      "Even numbers in the list:\n",
      "2\n",
      "4\n",
      "6\n",
      "8\n",
      "10\n"
     ]
    }
   ],
   "source": [
    "def print_even_numbers(numbers):\n",
    "    # Iterate through each number in the list\n",
    "    for number in numbers:\n",
    "        # Check if the number is even\n",
    "        if number % 2 == 0:\n",
    "            print(number)\n",
    "\n",
    "# Test the function\n",
    "my_list = [1, 2, 3, 4, 5, 6, 7, 8, 9, 10]\n",
    "print(\"Even numbers in the list:\")\n",
    "print_even_numbers(my_list)\n"
   ]
  },
  {
   "cell_type": "markdown",
   "id": "6be8e10b",
   "metadata": {},
   "source": [
    "# 8. Write a Python program to print odd numbers in a List?"
   ]
  },
  {
   "cell_type": "code",
   "execution_count": 8,
   "id": "d3df11e8",
   "metadata": {},
   "outputs": [
    {
     "name": "stdout",
     "output_type": "stream",
     "text": [
      "Odd numbers in the list:\n",
      "1\n",
      "3\n",
      "5\n",
      "7\n",
      "9\n"
     ]
    }
   ],
   "source": [
    "def print_odd_numbers(numbers):\n",
    "    # Iterate through each number in the list\n",
    "    for number in numbers:\n",
    "        # Check if the number is odd\n",
    "        if number % 2 != 0:\n",
    "            print(number)\n",
    "\n",
    "# Test the function\n",
    "my_list = [1, 2, 3, 4, 5, 6, 7, 8, 9, 10]\n",
    "print(\"Odd numbers in the list:\")\n",
    "print_odd_numbers(my_list)\n"
   ]
  },
  {
   "cell_type": "markdown",
   "id": "bd87afee",
   "metadata": {},
   "source": [
    "# 9. Write a Python program to Remove empty List from List?"
   ]
  },
  {
   "cell_type": "code",
   "execution_count": 9,
   "id": "78fc743d",
   "metadata": {},
   "outputs": [
    {
     "name": "stdout",
     "output_type": "stream",
     "text": [
      "Original list: [1, 2, [], 3, [], 4, 5, [], []]\n",
      "List after removing empty lists: [1, 2, 3, 4, 5]\n"
     ]
    }
   ],
   "source": [
    "def remove_empty_lists(lst):\n",
    "    # Use list comprehension to filter out empty lists\n",
    "    updated_list = [sublist for sublist in lst if sublist]\n",
    "    \n",
    "    return updated_list\n",
    "\n",
    "# Test the function\n",
    "my_list = [1, 2, [], 3, [], 4, 5, [], []]\n",
    "print(\"Original list:\", my_list)\n",
    "updated_list = remove_empty_lists(my_list)\n",
    "print(\"List after removing empty lists:\", updated_list)\n"
   ]
  },
  {
   "cell_type": "markdown",
   "id": "94ea22b1",
   "metadata": {},
   "source": [
    "# 10. Write a Python program to Cloning or Copying a list?"
   ]
  },
  {
   "cell_type": "code",
   "execution_count": 10,
   "id": "c0cebe9d",
   "metadata": {},
   "outputs": [
    {
     "name": "stdout",
     "output_type": "stream",
     "text": [
      "Original list: [1, 2, 3, 4, 5]\n",
      "Cloned list: [1, 2, 3, 4, 5]\n"
     ]
    }
   ],
   "source": [
    "def clone_list(original_list):\n",
    "    # Use the list() constructor to create a new list with the elements of the original list\n",
    "    cloned_list = list(original_list)\n",
    "    \n",
    "    return cloned_list\n",
    "\n",
    "# Test the function\n",
    "my_list = [1, 2, 3, 4, 5]\n",
    "cloned_list = clone_list(my_list)\n",
    "print(\"Original list:\", my_list)\n",
    "print(\"Cloned list:\", cloned_list)\n"
   ]
  },
  {
   "cell_type": "markdown",
   "id": "cb99f071",
   "metadata": {},
   "source": [
    "# 11. Write a Python program to Count occurrences of an element in a list?"
   ]
  },
  {
   "cell_type": "code",
   "execution_count": 11,
   "id": "ca64005b",
   "metadata": {},
   "outputs": [
    {
     "name": "stdout",
     "output_type": "stream",
     "text": [
      "Occurrences of 2 in the list: 4\n"
     ]
    }
   ],
   "source": [
    "def count_occurrences(lst, element):\n",
    "    count = 0\n",
    "    \n",
    "    # Iterate through each element in the list\n",
    "    for item in lst:\n",
    "        # If the current element matches the target element, increment the count\n",
    "        if item == element:\n",
    "            count += 1\n",
    "    \n",
    "    return count\n",
    "\n",
    "# Test the function\n",
    "my_list = [1, 2, 3, 4, 2, 2, 5, 6, 2]\n",
    "target_element = 2\n",
    "occurrences = count_occurrences(my_list, target_element)\n",
    "print(\"Occurrences of\", target_element, \"in the list:\", occurrences)\n"
   ]
  },
  {
   "cell_type": "code",
   "execution_count": null,
   "id": "2065e146",
   "metadata": {},
   "outputs": [],
   "source": []
  }
 ],
 "metadata": {
  "kernelspec": {
   "display_name": "Python 3 (ipykernel)",
   "language": "python",
   "name": "python3"
  },
  "language_info": {
   "codemirror_mode": {
    "name": "ipython",
    "version": 3
   },
   "file_extension": ".py",
   "mimetype": "text/x-python",
   "name": "python",
   "nbconvert_exporter": "python",
   "pygments_lexer": "ipython3",
   "version": "3.9.7"
  }
 },
 "nbformat": 4,
 "nbformat_minor": 5
}
