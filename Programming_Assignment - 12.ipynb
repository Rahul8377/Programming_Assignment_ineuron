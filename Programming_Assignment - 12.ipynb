{
 "cells": [
  {
   "cell_type": "markdown",
   "id": "54bd41b5",
   "metadata": {},
   "source": [
    "# 1. Write a Python program to Extract Unique values dictionary values?"
   ]
  },
  {
   "cell_type": "code",
   "execution_count": 1,
   "id": "96d8e212",
   "metadata": {},
   "outputs": [
    {
     "name": "stdout",
     "output_type": "stream",
     "text": [
      "[10, 20, 30, 40]\n"
     ]
    }
   ],
   "source": [
    "def extract_unique_values(dictionary):\n",
    "    unique_values = []\n",
    "    for value in dictionary.values():\n",
    "        if value not in unique_values:\n",
    "            unique_values.append(value)\n",
    "    return unique_values\n",
    "\n",
    "# Example usage:\n",
    "my_dictionary = {\n",
    "    'key1': 10,\n",
    "    'key2': 20,\n",
    "    'key3': 30,\n",
    "    'key4': 20,\n",
    "    'key5': 40,\n",
    "    'key6': 30\n",
    "}\n",
    "\n",
    "unique_values = extract_unique_values(my_dictionary)\n",
    "print(unique_values)\n"
   ]
  },
  {
   "cell_type": "markdown",
   "id": "0d196da1",
   "metadata": {},
   "source": [
    "# 2. Write a Python program to find the sum of all items in a dictionary?"
   ]
  },
  {
   "cell_type": "code",
   "execution_count": 2,
   "id": "3308de8b",
   "metadata": {},
   "outputs": [
    {
     "name": "stdout",
     "output_type": "stream",
     "text": [
      "Sum of dictionary items: 100\n"
     ]
    }
   ],
   "source": [
    "def sum_of_dictionary_items(dictionary):\n",
    "    total_sum = sum(dictionary.values())\n",
    "    return total_sum\n",
    "\n",
    "# Example usage:\n",
    "my_dictionary = {\n",
    "    'key1': 10,\n",
    "    'key2': 20,\n",
    "    'key3': 30,\n",
    "    'key4': 40\n",
    "}\n",
    "\n",
    "total_sum = sum_of_dictionary_items(my_dictionary)\n",
    "print(\"Sum of dictionary items:\", total_sum)\n"
   ]
  },
  {
   "cell_type": "markdown",
   "id": "cb5ee8f7",
   "metadata": {},
   "source": [
    "# 3. Write a Python program to Merging two Dictionaries?"
   ]
  },
  {
   "cell_type": "code",
   "execution_count": 3,
   "id": "301b77a3",
   "metadata": {},
   "outputs": [
    {
     "name": "stdout",
     "output_type": "stream",
     "text": [
      "Merged dictionary: {'a': 10, 'b': 20, 'c': 30, 'd': 40}\n"
     ]
    }
   ],
   "source": [
    "def merge_dictionaries(dict1, dict2):\n",
    "    merged_dict = {**dict1, **dict2}\n",
    "    return merged_dict\n",
    "\n",
    "# Example usage:\n",
    "dict1 = {'a': 10, 'b': 20}\n",
    "dict2 = {'c': 30, 'd': 40}\n",
    "\n",
    "merged_dict = merge_dictionaries(dict1, dict2)\n",
    "print(\"Merged dictionary:\", merged_dict)\n"
   ]
  },
  {
   "cell_type": "markdown",
   "id": "5f10c19b",
   "metadata": {},
   "source": [
    "# 4. Write a Python program to convert key-values list to flat dictionary?"
   ]
  },
  {
   "cell_type": "code",
   "execution_count": 4,
   "id": "f2442b2c",
   "metadata": {},
   "outputs": [
    {
     "name": "stdout",
     "output_type": "stream",
     "text": [
      "Flat dictionary: {'a': 10, 'b': 20, 'c': 30}\n"
     ]
    }
   ],
   "source": [
    "def convert_to_flat_dictionary(key_value_list):\n",
    "    flat_dict = {}\n",
    "    for pair in key_value_list:\n",
    "        key, value = pair\n",
    "        flat_dict[key] = value\n",
    "    return flat_dict\n",
    "\n",
    "# Example usage:\n",
    "key_value_list = [('a', 10), ('b', 20), ('c', 30)]\n",
    "\n",
    "flat_dict = convert_to_flat_dictionary(key_value_list)\n",
    "print(\"Flat dictionary:\", flat_dict)\n"
   ]
  },
  {
   "cell_type": "markdown",
   "id": "3163fe9a",
   "metadata": {},
   "source": [
    "# 5. Write a Python program to insertion at the beginning in OrderedDict?"
   ]
  },
  {
   "cell_type": "code",
   "execution_count": 5,
   "id": "770d65fc",
   "metadata": {},
   "outputs": [
    {
     "name": "stdout",
     "output_type": "stream",
     "text": [
      "Before insertion: OrderedDict([('a', 10), ('b', 20)])\n",
      "After insertion: OrderedDict([('c', 30), ('a', 10), ('b', 20)])\n"
     ]
    }
   ],
   "source": [
    "from collections import OrderedDict\n",
    "\n",
    "def insert_at_beginning(od, key, value):\n",
    "    od[key] = value\n",
    "    od.move_to_end(key, last=False)\n",
    "\n",
    "# Example usage:\n",
    "ordered_dict = OrderedDict([('a', 10), ('b', 20)])\n",
    "\n",
    "print(\"Before insertion:\", ordered_dict)\n",
    "\n",
    "insert_at_beginning(ordered_dict, 'c', 30)\n",
    "\n",
    "print(\"After insertion:\", ordered_dict)\n"
   ]
  },
  {
   "cell_type": "markdown",
   "id": "f1961c96",
   "metadata": {},
   "source": [
    "# 6. Write a Python program to check order of character in string using OrderedDict()?"
   ]
  },
  {
   "cell_type": "code",
   "execution_count": 7,
   "id": "1dd315ac",
   "metadata": {},
   "outputs": [
    {
     "name": "stdout",
     "output_type": "stream",
     "text": [
      "The characters in the string follow the order of the pattern.\n"
     ]
    }
   ],
   "source": [
    "# from collections import OrderedDict\n",
    "\n",
    "def check_order_of_characters(string, pattern):\n",
    "    char_dict = OrderedDict.fromkeys(string)\n",
    "\n",
    "    pattern_index = 0\n",
    "    for char in char_dict:\n",
    "        if pattern_index >= len(pattern):\n",
    "            break\n",
    "\n",
    "        if char == pattern[pattern_index]:\n",
    "            pattern_index += 1\n",
    "\n",
    "    return pattern_index == len(pattern)\n",
    "\n",
    "# Example usage:\n",
    "input_string = \"Hello World\"\n",
    "input_pattern = \"Hlo\"\n",
    "\n",
    "result = check_order_of_characters(input_string, input_pattern)\n",
    "\n",
    "if result:\n",
    "    print(\"The characters in the string follow the order of the pattern.\")\n",
    "else:\n",
    "    print(\"The characters in the string do not follow the order of the pattern.\")\n"
   ]
  },
  {
   "cell_type": "markdown",
   "id": "8d59d9f2",
   "metadata": {},
   "source": [
    "# 7. Write a Python program to sort Python Dictionaries by Key or Value?"
   ]
  },
  {
   "cell_type": "code",
   "execution_count": 8,
   "id": "ec3ee25f",
   "metadata": {},
   "outputs": [
    {
     "name": "stdout",
     "output_type": "stream",
     "text": [
      "Sorted by key: {'a': 10, 'b': 20, 'c': 30}\n",
      "Sorted by value: {'a': 10, 'b': 20, 'c': 30}\n"
     ]
    }
   ],
   "source": [
    "def sort_dictionary(dictionary, by_key=True):\n",
    "    if by_key:\n",
    "        sorted_dict = dict(sorted(dictionary.items()))\n",
    "    else:\n",
    "        sorted_dict = dict(sorted(dictionary.items(), key=lambda x: x[1]))\n",
    "    return sorted_dict\n",
    "\n",
    "# Example usage:\n",
    "my_dictionary = {'c': 30, 'a': 10, 'b': 20}\n",
    "\n",
    "sorted_by_key = sort_dictionary(my_dictionary, by_key=True)\n",
    "print(\"Sorted by key:\", sorted_by_key)\n",
    "\n",
    "sorted_by_value = sort_dictionary(my_dictionary, by_key=False)\n",
    "print(\"Sorted by value:\", sorted_by_value)\n"
   ]
  },
  {
   "cell_type": "code",
   "execution_count": null,
   "id": "b55df41a",
   "metadata": {},
   "outputs": [],
   "source": []
  }
 ],
 "metadata": {
  "kernelspec": {
   "display_name": "Python 3 (ipykernel)",
   "language": "python",
   "name": "python3"
  },
  "language_info": {
   "codemirror_mode": {
    "name": "ipython",
    "version": 3
   },
   "file_extension": ".py",
   "mimetype": "text/x-python",
   "name": "python",
   "nbconvert_exporter": "python",
   "pygments_lexer": "ipython3",
   "version": "3.9.7"
  }
 },
 "nbformat": 4,
 "nbformat_minor": 5
}
