{
 "cells": [
  {
   "cell_type": "markdown",
   "id": "190bb367",
   "metadata": {},
   "source": [
    "# 1. Write a Python Program to find sum of array?"
   ]
  },
  {
   "cell_type": "code",
   "execution_count": 1,
   "id": "a0217f9d",
   "metadata": {},
   "outputs": [
    {
     "name": "stdout",
     "output_type": "stream",
     "text": [
      "The sum of the array is: 15\n"
     ]
    }
   ],
   "source": [
    "def array_sum(arr):\n",
    "    sum = 0\n",
    "    for num in arr:\n",
    "        sum += num\n",
    "    return sum\n",
    "\n",
    "# Test the program\n",
    "arr = [1, 2, 3, 4, 5]\n",
    "result = array_sum(arr)\n",
    "print(f\"The sum of the array is: {result}\")\n"
   ]
  },
  {
   "cell_type": "markdown",
   "id": "6c8a22b1",
   "metadata": {},
   "source": [
    "# 2. Write a Python Program to find largest element in an array?"
   ]
  },
  {
   "cell_type": "code",
   "execution_count": 2,
   "id": "79c0c4d5",
   "metadata": {},
   "outputs": [
    {
     "name": "stdout",
     "output_type": "stream",
     "text": [
      "The largest element in the array is: 9\n"
     ]
    }
   ],
   "source": [
    "def find_largest_element(arr):\n",
    "    if len(arr) == 0:\n",
    "        return None\n",
    "    else:\n",
    "        largest = arr[0]\n",
    "        for num in arr:\n",
    "            if num > largest:\n",
    "                largest = num\n",
    "        return largest\n",
    "\n",
    "# Test the program\n",
    "arr = [5, 2, 9, 1, 7]\n",
    "largest_element = find_largest_element(arr)\n",
    "print(f\"The largest element in the array is: {largest_element}\")\n"
   ]
  },
  {
   "cell_type": "markdown",
   "id": "42fa384b",
   "metadata": {},
   "source": [
    "# 3. Write a Python Program for array rotation?"
   ]
  },
  {
   "cell_type": "code",
   "execution_count": 3,
   "id": "7c1b692b",
   "metadata": {},
   "outputs": [
    {
     "name": "stdout",
     "output_type": "stream",
     "text": [
      "Original array: [1, 2, 3, 4, 5]\n",
      "Array rotated by 2 positions: [3, 4, 5, 1, 2]\n"
     ]
    }
   ],
   "source": [
    "def rotate_array(arr, k):\n",
    "    n = len(arr)\n",
    "    k = k % n  # Handle cases where k is greater than array length\n",
    "\n",
    "    rotated_arr = arr[k:] + arr[:k]\n",
    "    return rotated_arr\n",
    "\n",
    "# Test the program\n",
    "arr = [1, 2, 3, 4, 5]\n",
    "k = 2\n",
    "rotated_array = rotate_array(arr, k)\n",
    "print(\"Original array:\", arr)\n",
    "print(f\"Array rotated by {k} positions:\", rotated_array)\n"
   ]
  },
  {
   "cell_type": "markdown",
   "id": "e0dd724a",
   "metadata": {},
   "source": [
    "# 4. Write a Python Program to Split the array and add the first part to the end?"
   ]
  },
  {
   "cell_type": "code",
   "execution_count": 4,
   "id": "a72c1bba",
   "metadata": {},
   "outputs": [
    {
     "name": "stdout",
     "output_type": "stream",
     "text": [
      "Original array: [1, 2, 3, 4, 5]\n",
      "Array after splitting at index 2 and adding the first part to the end: [4, 5, 1, 2, 3]\n"
     ]
    }
   ],
   "source": [
    "def split_and_add(arr, split_index):\n",
    "    if split_index < 0 or split_index >= len(arr):\n",
    "        return arr\n",
    "    \n",
    "    split_arr = arr[:split_index+1]\n",
    "    remaining_arr = arr[split_index+1:]\n",
    "    \n",
    "    return remaining_arr + split_arr\n",
    "\n",
    "# Test the program\n",
    "arr = [1, 2, 3, 4, 5]\n",
    "split_index = 2\n",
    "\n",
    "result = split_and_add(arr, split_index)\n",
    "print(\"Original array:\", arr)\n",
    "print(f\"Array after splitting at index {split_index} and adding the first part to the end:\", result)\n"
   ]
  },
  {
   "cell_type": "markdown",
   "id": "b5c3ec9f",
   "metadata": {},
   "source": [
    "# 5. Write a Python Program to check if given array is Monotonic?"
   ]
  },
  {
   "cell_type": "code",
   "execution_count": 5,
   "id": "705e3342",
   "metadata": {},
   "outputs": [
    {
     "name": "stdout",
     "output_type": "stream",
     "text": [
      "The array is monotonic.\n"
     ]
    }
   ],
   "source": [
    "def is_monotonic(arr):\n",
    "    increasing = decreasing = True\n",
    "\n",
    "    for i in range(1, len(arr)):\n",
    "        if arr[i] > arr[i - 1]:\n",
    "            decreasing = False\n",
    "        if arr[i] < arr[i - 1]:\n",
    "            increasing = False\n",
    "\n",
    "    return increasing or decreasing\n",
    "\n",
    "# Test the program\n",
    "arr = [1, 2, 3, 4, 5]\n",
    "monotonic = is_monotonic(arr)\n",
    "\n",
    "if monotonic:\n",
    "    print(\"The array is monotonic.\")\n",
    "else:\n",
    "    print(\"The array is not monotonic.\")\n"
   ]
  },
  {
   "cell_type": "code",
   "execution_count": null,
   "id": "8c800038",
   "metadata": {},
   "outputs": [],
   "source": []
  }
 ],
 "metadata": {
  "kernelspec": {
   "display_name": "Python 3 (ipykernel)",
   "language": "python",
   "name": "python3"
  },
  "language_info": {
   "codemirror_mode": {
    "name": "ipython",
    "version": 3
   },
   "file_extension": ".py",
   "mimetype": "text/x-python",
   "name": "python",
   "nbconvert_exporter": "python",
   "pygments_lexer": "ipython3",
   "version": "3.9.7"
  }
 },
 "nbformat": 4,
 "nbformat_minor": 5
}
